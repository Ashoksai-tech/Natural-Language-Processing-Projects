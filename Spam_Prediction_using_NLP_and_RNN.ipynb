{
  "nbformat": 4,
  "nbformat_minor": 0,
  "metadata": {
    "colab": {
      "provenance": [],
      "include_colab_link": true
    },
    "kernelspec": {
      "name": "python3",
      "display_name": "Python 3"
    },
    "language_info": {
      "name": "python"
    }
  },
  "cells": [
    {
      "cell_type": "markdown",
      "metadata": {
        "id": "view-in-github",
        "colab_type": "text"
      },
      "source": [
        "<a href=\"https://colab.research.google.com/github/Ashoksai-tech/Natural-Language-Processing-Projects/blob/main/Spam_Prediction_using_NLP_and_RNN.ipynb\" target=\"_parent\"><img src=\"https://colab.research.google.com/assets/colab-badge.svg\" alt=\"Open In Colab\"/></a>"
      ]
    },
    {
      "cell_type": "markdown",
      "source": [
        "## Approach of the problem\n",
        "* Load the Libraries and Data (NLTK, Gensim, Spacy)\n",
        "* Data Preparation and Transformation\n",
        "    * Tokenization\n",
        "    * Remove Special Characters\n",
        "    * Lemmatization / Stemming\n",
        "    * Remove stopwords\n",
        "    * Convert Lower case\n",
        "* Vectorization (Gensim, Sklearn, Keras)\n",
        "    * Count Vectorizer\n",
        "    * TF - IDF Vectorizer\n",
        "    * Word2rec\n",
        "    * Embedding (Keras)\n",
        "* Build a model\n",
        "    * ML Model (Boosting, Bagging)\n",
        "    * Deep Learning (Denselayer, RNN, LSTM)\n",
        "* Evaluate"
      ],
      "metadata": {
        "id": "eLEojMOURWmK"
      }
    },
    {
      "cell_type": "code",
      "source": [
        "!unzip '/content/archive (16).zip'"
      ],
      "metadata": {
        "colab": {
          "base_uri": "https://localhost:8080/"
        },
        "id": "b_aJswD1UdVa",
        "outputId": "91d0b7d8-fad4-40a2-9ff5-8e16a873ccca"
      },
      "execution_count": null,
      "outputs": [
        {
          "output_type": "stream",
          "name": "stdout",
          "text": [
            "Archive:  /content/archive (16).zip\n",
            "replace spam.csv? [y]es, [n]o, [A]ll, [N]one, [r]ename: "
          ]
        }
      ]
    },
    {
      "cell_type": "code",
      "execution_count": null,
      "metadata": {
        "colab": {
          "base_uri": "https://localhost:8080/"
        },
        "id": "1Q5DbIVSQcua",
        "outputId": "8642b3e5-7ccd-4d62-96d6-ba5021b0dd6e"
      },
      "outputs": [
        {
          "output_type": "stream",
          "name": "stderr",
          "text": [
            "[nltk_data] Downloading package punkt to /root/nltk_data...\n",
            "[nltk_data]   Unzipping tokenizers/punkt.zip.\n",
            "[nltk_data] Downloading package stopwords to /root/nltk_data...\n",
            "[nltk_data]   Unzipping corpora/stopwords.zip.\n",
            "[nltk_data] Downloading package wordnet to /root/nltk_data...\n"
          ]
        }
      ],
      "source": [
        "import pandas as pd\n",
        "import numpy as np\n",
        "import matplotlib.pyplot as plt\n",
        "import seaborn as sns\n",
        "from nltk.tokenize import word_tokenize\n",
        "import re\n",
        "import nltk\n",
        "from nltk.stem import WordNetLemmatizer\n",
        "from nltk.corpus import stopwords\n",
        "nltk.download('punkt')\n",
        "nltk.download('stopwords')\n",
        "nltk.download('wordnet')\n",
        "from sklearn.feature_extraction.text import CountVectorizer, TfidfVectorizer\n",
        "from sklearn.model_selection import train_test_split\n",
        "from sklearn.naive_bayes import MultinomialNB\n",
        "from sklearn.metrics import accuracy_score, confusion_matrix, classification_report"
      ]
    },
    {
      "cell_type": "code",
      "source": [
        "data = pd.read_csv('/content/spam.csv',encoding='latin-1')"
      ],
      "metadata": {
        "id": "My4HoRZNT9ff"
      },
      "execution_count": null,
      "outputs": []
    },
    {
      "cell_type": "code",
      "source": [
        "data.head()"
      ],
      "metadata": {
        "colab": {
          "base_uri": "https://localhost:8080/",
          "height": 206
        },
        "id": "eql0RSENUhwX",
        "outputId": "cb7acfed-ea9d-461f-d35d-9733b28609d4"
      },
      "execution_count": null,
      "outputs": [
        {
          "output_type": "execute_result",
          "data": {
            "text/plain": [
              "     v1                                                 v2 Unnamed: 2  \\\n",
              "0   ham  Go until jurong point, crazy.. Available only ...        NaN   \n",
              "1   ham                      Ok lar... Joking wif u oni...        NaN   \n",
              "2  spam  Free entry in 2 a wkly comp to win FA Cup fina...        NaN   \n",
              "3   ham  U dun say so early hor... U c already then say...        NaN   \n",
              "4   ham  Nah I don't think he goes to usf, he lives aro...        NaN   \n",
              "\n",
              "  Unnamed: 3 Unnamed: 4  \n",
              "0        NaN        NaN  \n",
              "1        NaN        NaN  \n",
              "2        NaN        NaN  \n",
              "3        NaN        NaN  \n",
              "4        NaN        NaN  "
            ],
            "text/html": [
              "\n",
              "  <div id=\"df-fe1a66e2-ce78-4aed-8e69-d5016a3bca62\" class=\"colab-df-container\">\n",
              "    <div>\n",
              "<style scoped>\n",
              "    .dataframe tbody tr th:only-of-type {\n",
              "        vertical-align: middle;\n",
              "    }\n",
              "\n",
              "    .dataframe tbody tr th {\n",
              "        vertical-align: top;\n",
              "    }\n",
              "\n",
              "    .dataframe thead th {\n",
              "        text-align: right;\n",
              "    }\n",
              "</style>\n",
              "<table border=\"1\" class=\"dataframe\">\n",
              "  <thead>\n",
              "    <tr style=\"text-align: right;\">\n",
              "      <th></th>\n",
              "      <th>v1</th>\n",
              "      <th>v2</th>\n",
              "      <th>Unnamed: 2</th>\n",
              "      <th>Unnamed: 3</th>\n",
              "      <th>Unnamed: 4</th>\n",
              "    </tr>\n",
              "  </thead>\n",
              "  <tbody>\n",
              "    <tr>\n",
              "      <th>0</th>\n",
              "      <td>ham</td>\n",
              "      <td>Go until jurong point, crazy.. Available only ...</td>\n",
              "      <td>NaN</td>\n",
              "      <td>NaN</td>\n",
              "      <td>NaN</td>\n",
              "    </tr>\n",
              "    <tr>\n",
              "      <th>1</th>\n",
              "      <td>ham</td>\n",
              "      <td>Ok lar... Joking wif u oni...</td>\n",
              "      <td>NaN</td>\n",
              "      <td>NaN</td>\n",
              "      <td>NaN</td>\n",
              "    </tr>\n",
              "    <tr>\n",
              "      <th>2</th>\n",
              "      <td>spam</td>\n",
              "      <td>Free entry in 2 a wkly comp to win FA Cup fina...</td>\n",
              "      <td>NaN</td>\n",
              "      <td>NaN</td>\n",
              "      <td>NaN</td>\n",
              "    </tr>\n",
              "    <tr>\n",
              "      <th>3</th>\n",
              "      <td>ham</td>\n",
              "      <td>U dun say so early hor... U c already then say...</td>\n",
              "      <td>NaN</td>\n",
              "      <td>NaN</td>\n",
              "      <td>NaN</td>\n",
              "    </tr>\n",
              "    <tr>\n",
              "      <th>4</th>\n",
              "      <td>ham</td>\n",
              "      <td>Nah I don't think he goes to usf, he lives aro...</td>\n",
              "      <td>NaN</td>\n",
              "      <td>NaN</td>\n",
              "      <td>NaN</td>\n",
              "    </tr>\n",
              "  </tbody>\n",
              "</table>\n",
              "</div>\n",
              "    <div class=\"colab-df-buttons\">\n",
              "\n",
              "  <div class=\"colab-df-container\">\n",
              "    <button class=\"colab-df-convert\" onclick=\"convertToInteractive('df-fe1a66e2-ce78-4aed-8e69-d5016a3bca62')\"\n",
              "            title=\"Convert this dataframe to an interactive table.\"\n",
              "            style=\"display:none;\">\n",
              "\n",
              "  <svg xmlns=\"http://www.w3.org/2000/svg\" height=\"24px\" viewBox=\"0 -960 960 960\">\n",
              "    <path d=\"M120-120v-720h720v720H120Zm60-500h600v-160H180v160Zm220 220h160v-160H400v160Zm0 220h160v-160H400v160ZM180-400h160v-160H180v160Zm440 0h160v-160H620v160ZM180-180h160v-160H180v160Zm440 0h160v-160H620v160Z\"/>\n",
              "  </svg>\n",
              "    </button>\n",
              "\n",
              "  <style>\n",
              "    .colab-df-container {\n",
              "      display:flex;\n",
              "      gap: 12px;\n",
              "    }\n",
              "\n",
              "    .colab-df-convert {\n",
              "      background-color: #E8F0FE;\n",
              "      border: none;\n",
              "      border-radius: 50%;\n",
              "      cursor: pointer;\n",
              "      display: none;\n",
              "      fill: #1967D2;\n",
              "      height: 32px;\n",
              "      padding: 0 0 0 0;\n",
              "      width: 32px;\n",
              "    }\n",
              "\n",
              "    .colab-df-convert:hover {\n",
              "      background-color: #E2EBFA;\n",
              "      box-shadow: 0px 1px 2px rgba(60, 64, 67, 0.3), 0px 1px 3px 1px rgba(60, 64, 67, 0.15);\n",
              "      fill: #174EA6;\n",
              "    }\n",
              "\n",
              "    .colab-df-buttons div {\n",
              "      margin-bottom: 4px;\n",
              "    }\n",
              "\n",
              "    [theme=dark] .colab-df-convert {\n",
              "      background-color: #3B4455;\n",
              "      fill: #D2E3FC;\n",
              "    }\n",
              "\n",
              "    [theme=dark] .colab-df-convert:hover {\n",
              "      background-color: #434B5C;\n",
              "      box-shadow: 0px 1px 3px 1px rgba(0, 0, 0, 0.15);\n",
              "      filter: drop-shadow(0px 1px 2px rgba(0, 0, 0, 0.3));\n",
              "      fill: #FFFFFF;\n",
              "    }\n",
              "  </style>\n",
              "\n",
              "    <script>\n",
              "      const buttonEl =\n",
              "        document.querySelector('#df-fe1a66e2-ce78-4aed-8e69-d5016a3bca62 button.colab-df-convert');\n",
              "      buttonEl.style.display =\n",
              "        google.colab.kernel.accessAllowed ? 'block' : 'none';\n",
              "\n",
              "      async function convertToInteractive(key) {\n",
              "        const element = document.querySelector('#df-fe1a66e2-ce78-4aed-8e69-d5016a3bca62');\n",
              "        const dataTable =\n",
              "          await google.colab.kernel.invokeFunction('convertToInteractive',\n",
              "                                                    [key], {});\n",
              "        if (!dataTable) return;\n",
              "\n",
              "        const docLinkHtml = 'Like what you see? Visit the ' +\n",
              "          '<a target=\"_blank\" href=https://colab.research.google.com/notebooks/data_table.ipynb>data table notebook</a>'\n",
              "          + ' to learn more about interactive tables.';\n",
              "        element.innerHTML = '';\n",
              "        dataTable['output_type'] = 'display_data';\n",
              "        await google.colab.output.renderOutput(dataTable, element);\n",
              "        const docLink = document.createElement('div');\n",
              "        docLink.innerHTML = docLinkHtml;\n",
              "        element.appendChild(docLink);\n",
              "      }\n",
              "    </script>\n",
              "  </div>\n",
              "\n",
              "\n",
              "<div id=\"df-f702d155-bca8-428c-ba1e-d75a46aff5f0\">\n",
              "  <button class=\"colab-df-quickchart\" onclick=\"quickchart('df-f702d155-bca8-428c-ba1e-d75a46aff5f0')\"\n",
              "            title=\"Suggest charts\"\n",
              "            style=\"display:none;\">\n",
              "\n",
              "<svg xmlns=\"http://www.w3.org/2000/svg\" height=\"24px\"viewBox=\"0 0 24 24\"\n",
              "     width=\"24px\">\n",
              "    <g>\n",
              "        <path d=\"M19 3H5c-1.1 0-2 .9-2 2v14c0 1.1.9 2 2 2h14c1.1 0 2-.9 2-2V5c0-1.1-.9-2-2-2zM9 17H7v-7h2v7zm4 0h-2V7h2v10zm4 0h-2v-4h2v4z\"/>\n",
              "    </g>\n",
              "</svg>\n",
              "  </button>\n",
              "\n",
              "<style>\n",
              "  .colab-df-quickchart {\n",
              "      --bg-color: #E8F0FE;\n",
              "      --fill-color: #1967D2;\n",
              "      --hover-bg-color: #E2EBFA;\n",
              "      --hover-fill-color: #174EA6;\n",
              "      --disabled-fill-color: #AAA;\n",
              "      --disabled-bg-color: #DDD;\n",
              "  }\n",
              "\n",
              "  [theme=dark] .colab-df-quickchart {\n",
              "      --bg-color: #3B4455;\n",
              "      --fill-color: #D2E3FC;\n",
              "      --hover-bg-color: #434B5C;\n",
              "      --hover-fill-color: #FFFFFF;\n",
              "      --disabled-bg-color: #3B4455;\n",
              "      --disabled-fill-color: #666;\n",
              "  }\n",
              "\n",
              "  .colab-df-quickchart {\n",
              "    background-color: var(--bg-color);\n",
              "    border: none;\n",
              "    border-radius: 50%;\n",
              "    cursor: pointer;\n",
              "    display: none;\n",
              "    fill: var(--fill-color);\n",
              "    height: 32px;\n",
              "    padding: 0;\n",
              "    width: 32px;\n",
              "  }\n",
              "\n",
              "  .colab-df-quickchart:hover {\n",
              "    background-color: var(--hover-bg-color);\n",
              "    box-shadow: 0 1px 2px rgba(60, 64, 67, 0.3), 0 1px 3px 1px rgba(60, 64, 67, 0.15);\n",
              "    fill: var(--button-hover-fill-color);\n",
              "  }\n",
              "\n",
              "  .colab-df-quickchart-complete:disabled,\n",
              "  .colab-df-quickchart-complete:disabled:hover {\n",
              "    background-color: var(--disabled-bg-color);\n",
              "    fill: var(--disabled-fill-color);\n",
              "    box-shadow: none;\n",
              "  }\n",
              "\n",
              "  .colab-df-spinner {\n",
              "    border: 2px solid var(--fill-color);\n",
              "    border-color: transparent;\n",
              "    border-bottom-color: var(--fill-color);\n",
              "    animation:\n",
              "      spin 1s steps(1) infinite;\n",
              "  }\n",
              "\n",
              "  @keyframes spin {\n",
              "    0% {\n",
              "      border-color: transparent;\n",
              "      border-bottom-color: var(--fill-color);\n",
              "      border-left-color: var(--fill-color);\n",
              "    }\n",
              "    20% {\n",
              "      border-color: transparent;\n",
              "      border-left-color: var(--fill-color);\n",
              "      border-top-color: var(--fill-color);\n",
              "    }\n",
              "    30% {\n",
              "      border-color: transparent;\n",
              "      border-left-color: var(--fill-color);\n",
              "      border-top-color: var(--fill-color);\n",
              "      border-right-color: var(--fill-color);\n",
              "    }\n",
              "    40% {\n",
              "      border-color: transparent;\n",
              "      border-right-color: var(--fill-color);\n",
              "      border-top-color: var(--fill-color);\n",
              "    }\n",
              "    60% {\n",
              "      border-color: transparent;\n",
              "      border-right-color: var(--fill-color);\n",
              "    }\n",
              "    80% {\n",
              "      border-color: transparent;\n",
              "      border-right-color: var(--fill-color);\n",
              "      border-bottom-color: var(--fill-color);\n",
              "    }\n",
              "    90% {\n",
              "      border-color: transparent;\n",
              "      border-bottom-color: var(--fill-color);\n",
              "    }\n",
              "  }\n",
              "</style>\n",
              "\n",
              "  <script>\n",
              "    async function quickchart(key) {\n",
              "      const quickchartButtonEl =\n",
              "        document.querySelector('#' + key + ' button');\n",
              "      quickchartButtonEl.disabled = true;  // To prevent multiple clicks.\n",
              "      quickchartButtonEl.classList.add('colab-df-spinner');\n",
              "      try {\n",
              "        const charts = await google.colab.kernel.invokeFunction(\n",
              "            'suggestCharts', [key], {});\n",
              "      } catch (error) {\n",
              "        console.error('Error during call to suggestCharts:', error);\n",
              "      }\n",
              "      quickchartButtonEl.classList.remove('colab-df-spinner');\n",
              "      quickchartButtonEl.classList.add('colab-df-quickchart-complete');\n",
              "    }\n",
              "    (() => {\n",
              "      let quickchartButtonEl =\n",
              "        document.querySelector('#df-f702d155-bca8-428c-ba1e-d75a46aff5f0 button');\n",
              "      quickchartButtonEl.style.display =\n",
              "        google.colab.kernel.accessAllowed ? 'block' : 'none';\n",
              "    })();\n",
              "  </script>\n",
              "</div>\n",
              "\n",
              "    </div>\n",
              "  </div>\n"
            ],
            "application/vnd.google.colaboratory.intrinsic+json": {
              "type": "dataframe",
              "variable_name": "data",
              "summary": "{\n  \"name\": \"data\",\n  \"rows\": 5572,\n  \"fields\": [\n    {\n      \"column\": \"v1\",\n      \"properties\": {\n        \"dtype\": \"category\",\n        \"num_unique_values\": 2,\n        \"samples\": [\n          \"spam\",\n          \"ham\"\n        ],\n        \"semantic_type\": \"\",\n        \"description\": \"\"\n      }\n    },\n    {\n      \"column\": \"v2\",\n      \"properties\": {\n        \"dtype\": \"string\",\n        \"num_unique_values\": 5169,\n        \"samples\": [\n          \"Did u download the fring app?\",\n          \"Pass dis to all ur contacts n see wat u get! Red;i'm in luv wid u. Blue;u put a smile on my face. Purple;u r realy hot. Pink;u r so swt. Orange;i thnk i lyk u. Green;i realy wana go out wid u. Yelow;i wnt u bck. Black;i'm jealous of u. Brown;i miss you Nw plz giv me one color\"\n        ],\n        \"semantic_type\": \"\",\n        \"description\": \"\"\n      }\n    },\n    {\n      \"column\": \"Unnamed: 2\",\n      \"properties\": {\n        \"dtype\": \"category\",\n        \"num_unique_values\": 43,\n        \"samples\": [\n          \" GOD said\",\n          \" SHE SHUDVETOLD U. DID URGRAN KNOW?NEWAY\"\n        ],\n        \"semantic_type\": \"\",\n        \"description\": \"\"\n      }\n    },\n    {\n      \"column\": \"Unnamed: 3\",\n      \"properties\": {\n        \"dtype\": \"category\",\n        \"num_unique_values\": 10,\n        \"samples\": [\n          \" \\\\\\\"OH No! COMPETITION\\\\\\\". Who knew\",\n          \" why to miss them\"\n        ],\n        \"semantic_type\": \"\",\n        \"description\": \"\"\n      }\n    },\n    {\n      \"column\": \"Unnamed: 4\",\n      \"properties\": {\n        \"dtype\": \"category\",\n        \"num_unique_values\": 5,\n        \"samples\": [\n          \"GNT:-)\\\"\",\n          \" one day these two will become FREINDS FOREVER!\\\"\"\n        ],\n        \"semantic_type\": \"\",\n        \"description\": \"\"\n      }\n    }\n  ]\n}"
            }
          },
          "metadata": {},
          "execution_count": 3
        }
      ]
    },
    {
      "cell_type": "code",
      "source": [
        "data.info()"
      ],
      "metadata": {
        "colab": {
          "base_uri": "https://localhost:8080/"
        },
        "id": "lHCSVbZXU3Kc",
        "outputId": "d3461cf3-182d-48bf-de5f-95752e3cf522"
      },
      "execution_count": null,
      "outputs": [
        {
          "output_type": "stream",
          "name": "stdout",
          "text": [
            "<class 'pandas.core.frame.DataFrame'>\n",
            "RangeIndex: 5572 entries, 0 to 5571\n",
            "Data columns (total 5 columns):\n",
            " #   Column      Non-Null Count  Dtype \n",
            "---  ------      --------------  ----- \n",
            " 0   v1          5572 non-null   object\n",
            " 1   v2          5572 non-null   object\n",
            " 2   Unnamed: 2  50 non-null     object\n",
            " 3   Unnamed: 3  12 non-null     object\n",
            " 4   Unnamed: 4  6 non-null      object\n",
            "dtypes: object(5)\n",
            "memory usage: 217.8+ KB\n"
          ]
        }
      ]
    },
    {
      "cell_type": "markdown",
      "source": [
        "Drop off the inconsistent columns"
      ],
      "metadata": {
        "id": "PzfmammeVbMw"
      }
    },
    {
      "cell_type": "code",
      "source": [
        "data_1 = data.drop(['Unnamed: 2','Unnamed: 3','Unnamed: 4'],axis=1,inplace=True)"
      ],
      "metadata": {
        "id": "OlqMXoMYVZzv"
      },
      "execution_count": null,
      "outputs": []
    },
    {
      "cell_type": "code",
      "source": [
        "data.info()"
      ],
      "metadata": {
        "colab": {
          "base_uri": "https://localhost:8080/"
        },
        "id": "6lgWrXCVVr1g",
        "outputId": "13a568ce-ddfc-4ff8-e034-4c533d8a1fc8"
      },
      "execution_count": null,
      "outputs": [
        {
          "output_type": "stream",
          "name": "stdout",
          "text": [
            "<class 'pandas.core.frame.DataFrame'>\n",
            "RangeIndex: 5572 entries, 0 to 5571\n",
            "Data columns (total 2 columns):\n",
            " #   Column  Non-Null Count  Dtype \n",
            "---  ------  --------------  ----- \n",
            " 0   v1      5572 non-null   object\n",
            " 1   v2      5572 non-null   object\n",
            "dtypes: object(2)\n",
            "memory usage: 87.2+ KB\n"
          ]
        }
      ]
    },
    {
      "cell_type": "code",
      "source": [
        "data.columns = ['label','text']"
      ],
      "metadata": {
        "id": "ZN7j7BeOV4Td"
      },
      "execution_count": null,
      "outputs": []
    },
    {
      "cell_type": "code",
      "source": [
        "data.info()"
      ],
      "metadata": {
        "colab": {
          "base_uri": "https://localhost:8080/"
        },
        "id": "jIIwCweQV9ly",
        "outputId": "a7f9b6e2-d890-4a4f-b628-926c3570f8e2"
      },
      "execution_count": null,
      "outputs": [
        {
          "output_type": "stream",
          "name": "stdout",
          "text": [
            "<class 'pandas.core.frame.DataFrame'>\n",
            "RangeIndex: 5572 entries, 0 to 5571\n",
            "Data columns (total 2 columns):\n",
            " #   Column  Non-Null Count  Dtype \n",
            "---  ------  --------------  ----- \n",
            " 0   label   5572 non-null   object\n",
            " 1   text    5572 non-null   object\n",
            "dtypes: object(2)\n",
            "memory usage: 87.2+ KB\n"
          ]
        }
      ]
    },
    {
      "cell_type": "code",
      "source": [
        "sns.countplot(data['label'])\n",
        "plt.show()"
      ],
      "metadata": {
        "colab": {
          "base_uri": "https://localhost:8080/",
          "height": 449
        },
        "id": "SuMbSi2rWA-s",
        "outputId": "ed4944b7-3d63-48d3-c4b0-51ad41938568"
      },
      "execution_count": null,
      "outputs": [
        {
          "output_type": "display_data",
          "data": {
            "text/plain": [
              "<Figure size 640x480 with 1 Axes>"
            ],
            "image/png": "[encoded data removed]"
          },
          "metadata": {}
        }
      ]
    },
    {
      "cell_type": "code",
      "source": [
        "def data_prep(text):\n",
        "  text =re.sub('[^a-zA-Z]',' ',text)\n",
        "  text = text.lower()\n",
        "  text = word_tokenize(text)\n",
        "  lemmmatize = nltk.WordNetLemmatizer()\n",
        "  text = [lemmmatize.lemmatize(word) for word in text if word not in set(stopwords.words('english'))]\n",
        "  text = ' '.join(text)\n",
        "  return text"
      ],
      "metadata": {
        "id": "bV8PCvCIWoNr"
      },
      "execution_count": null,
      "outputs": []
    },
    {
      "cell_type": "code",
      "source": [
        "data_1= data['text'].apply(data_prep)"
      ],
      "metadata": {
        "id": "7S0vk0PIZYtI"
      },
      "execution_count": null,
      "outputs": []
    },
    {
      "cell_type": "code",
      "source": [
        "data_1[2]"
      ],
      "metadata": {
        "colab": {
          "base_uri": "https://localhost:8080/",
          "height": 35
        },
        "id": "JjEKBMbLbCYr",
        "outputId": "66a3cd94-a8bf-408e-a96e-18c1a5b76207"
      },
      "execution_count": null,
      "outputs": [
        {
          "output_type": "execute_result",
          "data": {
            "text/plain": [
              "'free entry wkly comp win fa cup final tkts st may text fa receive entry question std txt rate c apply'"
            ],
            "application/vnd.google.colaboratory.intrinsic+json": {
              "type": "string"
            }
          },
          "metadata": {},
          "execution_count": 12
        }
      ]
    },
    {
      "cell_type": "markdown",
      "source": [
        "* Using TF-IDF preprocess the data"
      ],
      "metadata": {
        "id": "IJjtHjsBe0r-"
      }
    },
    {
      "cell_type": "code",
      "source": [
        "vect = TfidfVectorizer()\n",
        "x = vect.fit_transform(data['text'])"
      ],
      "metadata": {
        "id": "lLsJwq88cfe9"
      },
      "execution_count": null,
      "outputs": []
    },
    {
      "cell_type": "code",
      "source": [
        "y =data['label']"
      ],
      "metadata": {
        "id": "56jAqLXlfHJt"
      },
      "execution_count": null,
      "outputs": []
    },
    {
      "cell_type": "code",
      "source": [
        "x.shape"
      ],
      "metadata": {
        "colab": {
          "base_uri": "https://localhost:8080/"
        },
        "id": "xpau-tq6fYKf",
        "outputId": "3f6e7780-5846-4239-90b5-162b5bb16519"
      },
      "execution_count": null,
      "outputs": [
        {
          "output_type": "execute_result",
          "data": {
            "text/plain": [
              "(5572, 8672)"
            ]
          },
          "metadata": {},
          "execution_count": 15
        }
      ]
    },
    {
      "cell_type": "code",
      "source": [
        "# prompt: split the data into train and test\n",
        "\n",
        "x_train, x_test, y_train, y_test = train_test_split(x, y, test_size=0.2, random_state=42)\n"
      ],
      "metadata": {
        "id": "5U0A7n_Afa20"
      },
      "execution_count": null,
      "outputs": []
    },
    {
      "cell_type": "code",
      "source": [
        "nb_classifier = MultinomialNB()\n",
        "nb_classifier.fit(x_train, y_train)\n",
        "\n",
        "y_pred = nb_classifier.predict(x_test)\n",
        "\n",
        "accuracy = accuracy_score(y_test, y_pred)\n",
        "conf_matrix = confusion_matrix(y_test, y_pred)\n",
        "classification_rep = classification_report(y_test, y_pred)\n",
        "\n",
        "print(\"Accuracy:\", accuracy)\n",
        "print(\"\\nConfusion Matrix:\\n\", conf_matrix)\n",
        "print(\"\\nClassification Report:\\n\", classification_rep)\n"
      ],
      "metadata": {
        "colab": {
          "base_uri": "https://localhost:8080/"
        },
        "id": "0Z-eCoTPgk5X",
        "outputId": "d7cf2f0c-e294-4d38-c54f-68e16fcd3623"
      },
      "execution_count": null,
      "outputs": [
        {
          "output_type": "stream",
          "name": "stdout",
          "text": [
            "Accuracy: 0.9623318385650225\n",
            "\n",
            "Confusion Matrix:\n",
            " [[965   0]\n",
            " [ 42 108]]\n",
            "\n",
            "Classification Report:\n",
            "               precision    recall  f1-score   support\n",
            "\n",
            "         ham       0.96      1.00      0.98       965\n",
            "        spam       1.00      0.72      0.84       150\n",
            "\n",
            "    accuracy                           0.96      1115\n",
            "   macro avg       0.98      0.86      0.91      1115\n",
            "weighted avg       0.96      0.96      0.96      1115\n",
            "\n"
          ]
        }
      ]
    },
    {
      "cell_type": "code",
      "source": [
        "from sklearn.ensemble import GradientBoostingClassifier\n",
        "\n",
        "gb_classifier = GradientBoostingClassifier(random_state=42)\n",
        "\n",
        "gb_classifier.fit(x_train, y_train)\n",
        "\n",
        "y_pred_gb = gb_classifier.predict(x_test)\n",
        "\n",
        "accuracy_gb = accuracy_score(y_test, y_pred_gb)\n",
        "conf_matrix_gb = confusion_matrix(y_test, y_pred_gb)\n",
        "classification_rep_gb = classification_report(y_test, y_pred_gb)\n",
        "\n",
        "print(\"Gradient Boosting Accuracy:\", accuracy_gb)\n",
        "print(\"\\nConfusion Matrix:\\n\", conf_matrix_gb)\n",
        "print(\"\\nClassification Report:\\n\", classification_rep_gb)\n"
      ],
      "metadata": {
        "colab": {
          "base_uri": "https://localhost:8080/"
        },
        "id": "auCxaW-qguFF",
        "outputId": "43f132b7-6bc1-4bb9-9cc8-e1c24796b71a"
      },
      "execution_count": null,
      "outputs": [
        {
          "output_type": "stream",
          "name": "stdout",
          "text": [
            "Gradient Boosting Accuracy: 0.9730941704035875\n",
            "\n",
            "Confusion Matrix:\n",
            " [[964   1]\n",
            " [ 29 121]]\n",
            "\n",
            "Classification Report:\n",
            "               precision    recall  f1-score   support\n",
            "\n",
            "         ham       0.97      1.00      0.98       965\n",
            "        spam       0.99      0.81      0.89       150\n",
            "\n",
            "    accuracy                           0.97      1115\n",
            "   macro avg       0.98      0.90      0.94      1115\n",
            "weighted avg       0.97      0.97      0.97      1115\n",
            "\n"
          ]
        }
      ]
    },
    {
      "cell_type": "code",
      "source": [
        "from sklearn.ensemble import RandomForestClassifier\n",
        "rf_classifier = RandomForestClassifier(random_state=42)\n",
        "rf_classifier.fit(x_train, y_train)\n",
        "y_pred_rf = rf_classifier.predict(x_test)\n",
        "\n",
        "accuracy_rf = accuracy_score(y_test, y_pred_rf)\n",
        "conf_matrix_rf = confusion_matrix(y_test, y_pred_rf)\n",
        "classification_rep_rf = classification_report(y_test, y_pred_rf)\n",
        "\n",
        "print(\"Random Forest Accuracy:\", accuracy_rf)\n",
        "print(\"\\nConfusion Matrix:\\n\", conf_matrix_rf)\n",
        "print(\"\\nClassification Report:\\n\", classification_rep_rf)\n"
      ],
      "metadata": {
        "colab": {
          "base_uri": "https://localhost:8080/"
        },
        "id": "G10VO0ex8V8e",
        "outputId": "8f06e7df-01fb-4658-9fa0-7f52e2c5918f"
      },
      "execution_count": null,
      "outputs": [
        {
          "output_type": "stream",
          "name": "stdout",
          "text": [
            "Random Forest Accuracy: 0.9766816143497757\n",
            "\n",
            "Confusion Matrix:\n",
            " [[965   0]\n",
            " [ 26 124]]\n",
            "\n",
            "Classification Report:\n",
            "               precision    recall  f1-score   support\n",
            "\n",
            "         ham       0.97      1.00      0.99       965\n",
            "        spam       1.00      0.83      0.91       150\n",
            "\n",
            "    accuracy                           0.98      1115\n",
            "   macro avg       0.99      0.91      0.95      1115\n",
            "weighted avg       0.98      0.98      0.98      1115\n",
            "\n"
          ]
        }
      ]
    },
    {
      "cell_type": "code",
      "source": [
        "from imblearn.over_sampling import SMOTE\n",
        "\n",
        "smote = SMOTE(random_state=42)\n",
        "\n",
        "x_train_resampled, y_train_resampled = smote.fit_resample(x_train, y_train)\n",
        "\n",
        "nb_classifier_resampled = MultinomialNB()\n",
        "nb_classifier_resampled.fit(x_train_resampled, y_train_resampled)\n",
        "\n",
        "y_pred_resampled = nb_classifier_resampled.predict(x_test)\n",
        "\n",
        "accuracy_resampled = accuracy_score(y_test, y_pred_resampled)\n",
        "conf_matrix_resampled = confusion_matrix(y_test, y_pred_resampled)\n",
        "classification_rep_resampled = classification_report(y_test, y_pred_resampled)\n",
        "\n",
        "print(\"Accuracy (after SMOTE):\", accuracy_resampled)\n",
        "print(\"\\nConfusion Matrix:\\n\", conf_matrix_resampled)\n",
        "print(\"\\nClassification Report:\\n\", classification_rep_resampled)\n"
      ],
      "metadata": {
        "colab": {
          "base_uri": "https://localhost:8080/"
        },
        "id": "lWiEqRW_8ngC",
        "outputId": "b576e1f5-eb7c-4d06-a832-407c3eb6a1fe"
      },
      "execution_count": null,
      "outputs": [
        {
          "output_type": "stream",
          "name": "stdout",
          "text": [
            "Accuracy (after SMOTE): 0.9748878923766816\n",
            "\n",
            "Confusion Matrix:\n",
            " [[951  14]\n",
            " [ 14 136]]\n",
            "\n",
            "Classification Report:\n",
            "               precision    recall  f1-score   support\n",
            "\n",
            "         ham       0.99      0.99      0.99       965\n",
            "        spam       0.91      0.91      0.91       150\n",
            "\n",
            "    accuracy                           0.97      1115\n",
            "   macro avg       0.95      0.95      0.95      1115\n",
            "weighted avg       0.97      0.97      0.97      1115\n",
            "\n"
          ]
        }
      ]
    },
    {
      "cell_type": "code",
      "source": [
        "!pip install gradio"
      ],
      "metadata": {
        "colab": {
          "base_uri": "https://localhost:8080/"
        },
        "id": "N5HyhCPpFhO5",
        "outputId": "6b7a9e0b-fe82-4c7d-a733-30f3648eb5a9"
      },
      "execution_count": null,
      "outputs": [
        {
          "output_type": "stream",
          "name": "stdout",
          "text": [
            "Collecting gradio\n",
            "  Downloading gradio-4.42.0-py3-none-any.whl.metadata (15 kB)\n",
            "Collecting aiofiles<24.0,>=22.0 (from gradio)\n",
            "  Downloading aiofiles-23.2.1-py3-none-any.whl.metadata (9.7 kB)\n",
            "Requirement already satisfied: anyio<5.0,>=3.0 in /usr/local/lib/python3.10/dist-packages (from gradio) (3.7.1)\n",
            "Collecting fastapi (from gradio)\n",
            "  Downloading fastapi-0.112.2-py3-none-any.whl.metadata (27 kB)\n",
            "Collecting ffmpy (from gradio)\n",
            "  Downloading ffmpy-0.4.0-py3-none-any.whl.metadata (2.9 kB)\n",
            "Collecting gradio-client==1.3.0 (from gradio)\n",
            "  Downloading gradio_client-1.3.0-py3-none-any.whl.metadata (7.1 kB)\n",
            "Collecting httpx>=0.24.1 (from gradio)\n",
            "  Downloading httpx-0.27.2-py3-none-any.whl.metadata (7.1 kB)\n",
            "Requirement already satisfied: huggingface-hub>=0.19.3 in /usr/local/lib/python3.10/dist-packages (from gradio) (0.24.6)\n",
            "Requirement already satisfied: importlib-resources<7.0,>=1.3 in /usr/local/lib/python3.10/dist-packages (from gradio) (6.4.4)\n",
            "Requirement already satisfied: jinja2<4.0 in /usr/local/lib/python3.10/dist-packages (from gradio) (3.1.4)\n",
            "Requirement already satisfied: markupsafe~=2.0 in /usr/local/lib/python3.10/dist-packages (from gradio) (2.1.5)\n",
            "Requirement already satisfied: matplotlib~=3.0 in /usr/local/lib/python3.10/dist-packages (from gradio) (3.7.1)\n",
            "Requirement already satisfied: numpy<3.0,>=1.0 in /usr/local/lib/python3.10/dist-packages (from gradio) (1.26.4)\n",
            "Collecting orjson~=3.0 (from gradio)\n",
            "  Downloading orjson-3.10.7-cp310-cp310-manylinux_2_17_x86_64.manylinux2014_x86_64.whl.metadata (50 kB)\n",
            "\u001b[2K     \u001b[90m━━━━━━━━━━━━━━━━━━━━━━━━━━━━━━━━━━━━━━━━\u001b[0m \u001b[32m50.4/50.4 kB\u001b[0m \u001b[31m2.7 MB/s\u001b[0m eta \u001b[36m0:00:00\u001b[0m\n",
            "\u001b[?25hRequirement already satisfied: packaging in /usr/local/lib/python3.10/dist-packages (from gradio) (24.1)\n",
            "Requirement already satisfied: pandas<3.0,>=1.0 in /usr/local/lib/python3.10/dist-packages (from gradio) (2.1.4)\n",
            "Requirement already satisfied: pillow<11.0,>=8.0 in /usr/local/lib/python3.10/dist-packages (from gradio) (9.4.0)\n",
            "Requirement already satisfied: pydantic>=2.0 in /usr/local/lib/python3.10/dist-packages (from gradio) (2.8.2)\n",
            "Collecting pydub (from gradio)\n",
            "  Downloading pydub-0.25.1-py2.py3-none-any.whl.metadata (1.4 kB)\n",
            "Collecting python-multipart>=0.0.9 (from gradio)\n",
            "  Downloading python_multipart-0.0.9-py3-none-any.whl.metadata (2.5 kB)\n",
            "Requirement already satisfied: pyyaml<7.0,>=5.0 in /usr/local/lib/python3.10/dist-packages (from gradio) (6.0.2)\n",
            "Collecting ruff>=0.2.2 (from gradio)\n",
            "  Downloading ruff-0.6.3-py3-none-manylinux_2_17_x86_64.manylinux2014_x86_64.whl.metadata (25 kB)\n",
            "Collecting semantic-version~=2.0 (from gradio)\n",
            "  Downloading semantic_version-2.10.0-py2.py3-none-any.whl.metadata (9.7 kB)\n",
            "Collecting tomlkit==0.12.0 (from gradio)\n",
            "  Downloading tomlkit-0.12.0-py3-none-any.whl.metadata (2.7 kB)\n",
            "Requirement already satisfied: typer<1.0,>=0.12 in /usr/local/lib/python3.10/dist-packages (from gradio) (0.12.5)\n",
            "Requirement already satisfied: typing-extensions~=4.0 in /usr/local/lib/python3.10/dist-packages (from gradio) (4.12.2)\n",
            "Requirement already satisfied: urllib3~=2.0 in /usr/local/lib/python3.10/dist-packages (from gradio) (2.0.7)\n",
            "Collecting uvicorn>=0.14.0 (from gradio)\n",
            "  Downloading uvicorn-0.30.6-py3-none-any.whl.metadata (6.6 kB)\n",
            "Requirement already satisfied: fsspec in /usr/local/lib/python3.10/dist-packages (from gradio-client==1.3.0->gradio) (2024.6.1)\n",
            "Collecting websockets<13.0,>=10.0 (from gradio-client==1.3.0->gradio)\n",
            "  Downloading websockets-12.0-cp310-cp310-manylinux_2_5_x86_64.manylinux1_x86_64.manylinux_2_17_x86_64.manylinux2014_x86_64.whl.metadata (6.6 kB)\n",
            "Requirement already satisfied: idna>=2.8 in /usr/local/lib/python3.10/dist-packages (from anyio<5.0,>=3.0->gradio) (3.8)\n",
            "Requirement already satisfied: sniffio>=1.1 in /usr/local/lib/python3.10/dist-packages (from anyio<5.0,>=3.0->gradio) (1.3.1)\n",
            "Requirement already satisfied: exceptiongroup in /usr/local/lib/python3.10/dist-packages (from anyio<5.0,>=3.0->gradio) (1.2.2)\n",
            "Requirement already satisfied: certifi in /usr/local/lib/python3.10/dist-packages (from httpx>=0.24.1->gradio) (2024.8.30)\n",
            "Collecting httpcore==1.* (from httpx>=0.24.1->gradio)\n",
            "  Downloading httpcore-1.0.5-py3-none-any.whl.metadata (20 kB)\n",
            "Collecting h11<0.15,>=0.13 (from httpcore==1.*->httpx>=0.24.1->gradio)\n",
            "  Downloading h11-0.14.0-py3-none-any.whl.metadata (8.2 kB)\n",
            "Requirement already satisfied: filelock in /usr/local/lib/python3.10/dist-packages (from huggingface-hub>=0.19.3->gradio) (3.15.4)\n",
            "Requirement already satisfied: requests in /usr/local/lib/python3.10/dist-packages (from huggingface-hub>=0.19.3->gradio) (2.32.3)\n",
            "Requirement already satisfied: tqdm>=4.42.1 in /usr/local/lib/python3.10/dist-packages (from huggingface-hub>=0.19.3->gradio) (4.66.5)\n",
            "Requirement already satisfied: contourpy>=1.0.1 in /usr/local/lib/python3.10/dist-packages (from matplotlib~=3.0->gradio) (1.3.0)\n",
            "Requirement already satisfied: cycler>=0.10 in /usr/local/lib/python3.10/dist-packages (from matplotlib~=3.0->gradio) (0.12.1)\n",
            "Requirement already satisfied: fonttools>=4.22.0 in /usr/local/lib/python3.10/dist-packages (from matplotlib~=3.0->gradio) (4.53.1)\n",
            "Requirement already satisfied: kiwisolver>=1.0.1 in /usr/local/lib/python3.10/dist-packages (from matplotlib~=3.0->gradio) (1.4.5)\n",
            "Requirement already satisfied: pyparsing>=2.3.1 in /usr/local/lib/python3.10/dist-packages (from matplotlib~=3.0->gradio) (3.1.4)\n",
            "Requirement already satisfied: python-dateutil>=2.7 in /usr/local/lib/python3.10/dist-packages (from matplotlib~=3.0->gradio) (2.8.2)\n",
            "Requirement already satisfied: pytz>=2020.1 in /usr/local/lib/python3.10/dist-packages (from pandas<3.0,>=1.0->gradio) (2024.1)\n",
            "Requirement already satisfied: tzdata>=2022.1 in /usr/local/lib/python3.10/dist-packages (from pandas<3.0,>=1.0->gradio) (2024.1)\n",
            "Requirement already satisfied: annotated-types>=0.4.0 in /usr/local/lib/python3.10/dist-packages (from pydantic>=2.0->gradio) (0.7.0)\n",
            "Requirement already satisfied: pydantic-core==2.20.1 in /usr/local/lib/python3.10/dist-packages (from pydantic>=2.0->gradio) (2.20.1)\n",
            "Requirement already satisfied: click>=8.0.0 in /usr/local/lib/python3.10/dist-packages (from typer<1.0,>=0.12->gradio) (8.1.7)\n",
            "Requirement already satisfied: shellingham>=1.3.0 in /usr/local/lib/python3.10/dist-packages (from typer<1.0,>=0.12->gradio) (1.5.4)\n",
            "Requirement already satisfied: rich>=10.11.0 in /usr/local/lib/python3.10/dist-packages (from typer<1.0,>=0.12->gradio) (13.8.0)\n",
            "Collecting starlette<0.39.0,>=0.37.2 (from fastapi->gradio)\n",
            "  Downloading starlette-0.38.4-py3-none-any.whl.metadata (6.0 kB)\n",
            "Requirement already satisfied: six>=1.5 in /usr/local/lib/python3.10/dist-packages (from python-dateutil>=2.7->matplotlib~=3.0->gradio) (1.16.0)\n",
            "Requirement already satisfied: markdown-it-py>=2.2.0 in /usr/local/lib/python3.10/dist-packages (from rich>=10.11.0->typer<1.0,>=0.12->gradio) (3.0.0)\n",
            "Requirement already satisfied: pygments<3.0.0,>=2.13.0 in /usr/local/lib/python3.10/dist-packages (from rich>=10.11.0->typer<1.0,>=0.12->gradio) (2.16.1)\n",
            "Requirement already satisfied: charset-normalizer<4,>=2 in /usr/local/lib/python3.10/dist-packages (from requests->huggingface-hub>=0.19.3->gradio) (3.3.2)\n",
            "Requirement already satisfied: mdurl~=0.1 in /usr/local/lib/python3.10/dist-packages (from markdown-it-py>=2.2.0->rich>=10.11.0->typer<1.0,>=0.12->gradio) (0.1.2)\n",
            "Downloading gradio-4.42.0-py3-none-any.whl (16.8 MB)\n",
            "\u001b[2K   \u001b[90m━━━━━━━━━━━━━━━━━━━━━━━━━━━━━━━━━━━━━━━━\u001b[0m \u001b[32m16.8/16.8 MB\u001b[0m \u001b[31m77.8 MB/s\u001b[0m eta \u001b[36m0:00:00\u001b[0m\n",
            "\u001b[?25hDownloading gradio_client-1.3.0-py3-none-any.whl (318 kB)\n",
            "\u001b[2K   \u001b[90m━━━━━━━━━━━━━━━━━━━━━━━━━━━━━━━━━━━━━━━━\u001b[0m \u001b[32m318.7/318.7 kB\u001b[0m \u001b[31m21.3 MB/s\u001b[0m eta \u001b[36m0:00:00\u001b[0m\n",
            "\u001b[?25hDownloading tomlkit-0.12.0-py3-none-any.whl (37 kB)\n",
            "Downloading aiofiles-23.2.1-py3-none-any.whl (15 kB)\n",
            "Downloading httpx-0.27.2-py3-none-any.whl (76 kB)\n",
            "\u001b[2K   \u001b[90m━━━━━━━━━━━━━━━━━━━━━━━━━━━━━━━━━━━━━━━━\u001b[0m \u001b[32m76.4/76.4 kB\u001b[0m \u001b[31m6.0 MB/s\u001b[0m eta \u001b[36m0:00:00\u001b[0m\n",
            "\u001b[?25hDownloading httpcore-1.0.5-py3-none-any.whl (77 kB)\n",
            "\u001b[2K   \u001b[90m━━━━━━━━━━━━━━━━━━━━━━━━━━━━━━━━━━━━━━━━\u001b[0m \u001b[32m77.9/77.9 kB\u001b[0m \u001b[31m6.1 MB/s\u001b[0m eta \u001b[36m0:00:00\u001b[0m\n",
            "\u001b[?25hDownloading orjson-3.10.7-cp310-cp310-manylinux_2_17_x86_64.manylinux2014_x86_64.whl (141 kB)\n",
            "\u001b[2K   \u001b[90m━━━━━━━━━━━━━━━━━━━━━━━━━━━━━━━━━━━━━━━━\u001b[0m \u001b[32m141.9/141.9 kB\u001b[0m \u001b[31m11.6 MB/s\u001b[0m eta \u001b[36m0:00:00\u001b[0m\n",
            "\u001b[?25hDownloading python_multipart-0.0.9-py3-none-any.whl (22 kB)\n",
            "Downloading ruff-0.6.3-py3-none-manylinux_2_17_x86_64.manylinux2014_x86_64.whl (10.3 MB)\n",
            "\u001b[2K   \u001b[90m━━━━━━━━━━━━━━━━━━━━━━━━━━━━━━━━━━━━━━━━\u001b[0m \u001b[32m10.3/10.3 MB\u001b[0m \u001b[31m101.3 MB/s\u001b[0m eta \u001b[36m0:00:00\u001b[0m\n",
            "\u001b[?25hDownloading semantic_version-2.10.0-py2.py3-none-any.whl (15 kB)\n",
            "Downloading uvicorn-0.30.6-py3-none-any.whl (62 kB)\n",
            "\u001b[2K   \u001b[90m━━━━━━━━━━━━━━━━━━━━━━━━━━━━━━━━━━━━━━━━\u001b[0m \u001b[32m62.8/62.8 kB\u001b[0m \u001b[31m5.1 MB/s\u001b[0m eta \u001b[36m0:00:00\u001b[0m\n",
            "\u001b[?25hDownloading fastapi-0.112.2-py3-none-any.whl (93 kB)\n",
            "\u001b[2K   \u001b[90m━━━━━━━━━━━━━━━━━━━━━━━━━━━━━━━━━━━━━━━━\u001b[0m \u001b[32m93.5/93.5 kB\u001b[0m \u001b[31m7.4 MB/s\u001b[0m eta \u001b[36m0:00:00\u001b[0m\n",
            "\u001b[?25hDownloading ffmpy-0.4.0-py3-none-any.whl (5.8 kB)\n",
            "Downloading pydub-0.25.1-py2.py3-none-any.whl (32 kB)\n",
            "Downloading h11-0.14.0-py3-none-any.whl (58 kB)\n",
            "\u001b[2K   \u001b[90m━━━━━━━━━━━━━━━━━━━━━━━━━━━━━━━━━━━━━━━━\u001b[0m \u001b[32m58.3/58.3 kB\u001b[0m \u001b[31m4.1 MB/s\u001b[0m eta \u001b[36m0:00:00\u001b[0m\n",
            "\u001b[?25hDownloading starlette-0.38.4-py3-none-any.whl (71 kB)\n",
            "\u001b[2K   \u001b[90m━━━━━━━━━━━━━━━━━━━━━━━━━━━━━━━━━━━━━━━━\u001b[0m \u001b[32m71.4/71.4 kB\u001b[0m \u001b[31m4.7 MB/s\u001b[0m eta \u001b[36m0:00:00\u001b[0m\n",
            "\u001b[?25hDownloading websockets-12.0-cp310-cp310-manylinux_2_5_x86_64.manylinux1_x86_64.manylinux_2_17_x86_64.manylinux2014_x86_64.whl (130 kB)\n",
            "\u001b[2K   \u001b[90m━━━━━━━━━━━━━━━━━━━━━━━━━━━━━━━━━━━━━━━━\u001b[0m \u001b[32m130.2/130.2 kB\u001b[0m \u001b[31m10.0 MB/s\u001b[0m eta \u001b[36m0:00:00\u001b[0m\n",
            "\u001b[?25hInstalling collected packages: pydub, websockets, tomlkit, semantic-version, ruff, python-multipart, orjson, h11, ffmpy, aiofiles, uvicorn, starlette, httpcore, httpx, fastapi, gradio-client, gradio\n",
            "  Attempting uninstall: tomlkit\n",
            "    Found existing installation: tomlkit 0.13.2\n",
            "    Uninstalling tomlkit-0.13.2:\n",
            "      Successfully uninstalled tomlkit-0.13.2\n",
            "Successfully installed aiofiles-23.2.1 fastapi-0.112.2 ffmpy-0.4.0 gradio-4.42.0 gradio-client-1.3.0 h11-0.14.0 httpcore-1.0.5 httpx-0.27.2 orjson-3.10.7 pydub-0.25.1 python-multipart-0.0.9 ruff-0.6.3 semantic-version-2.10.0 starlette-0.38.4 tomlkit-0.12.0 uvicorn-0.30.6 websockets-12.0\n"
          ]
        }
      ]
    },
    {
      "cell_type": "code",
      "source": [
        "import gradio as gr\n",
        "\n",
        "def predict_text(text):\n",
        "    preprocessed_text = data_prep(text)\n",
        "    vectorized_text = vect.transform([preprocessed_text])\n",
        "    prediction = nb_classifier.predict(vectorized_text)\n",
        "    return \"spam\" if prediction == \"spam\" else \"ham\"\n",
        "\n",
        "iface = gr.Interface(\n",
        "    fn = predict_text,\n",
        "    inputs = gr.Textbox(lines = 5,placeholder = \"enter your text message here\"),\n",
        "    outputs = \"text\",\n",
        "    title=\"Spam Detection APP\",\n",
        "    description=\"Enter a text message and get a prediction on whether it's spam or not.\"\n",
        ")\n",
        "\n",
        "iface.launch()"
      ],
      "metadata": {
        "id": "JWsqPOT0RvRS",
        "colab": {
          "base_uri": "https://localhost:8080/",
          "height": 626
        },
        "outputId": "c39e8a0d-79af-4623-a437-b199c3d0d5a4"
      },
      "execution_count": null,
      "outputs": [
        {
          "output_type": "stream",
          "name": "stdout",
          "text": [
            "Setting queue=True in a Colab notebook requires sharing enabled. Setting `share=True` (you can turn this off by setting `share=False` in `launch()` explicitly).\n",
            "\n",
            "Colab notebook detected. To show errors in colab notebook, set debug=True in launch()\n",
            "Running on public URL: https://9b63ab291380d215e0.gradio.live\n",
            "\n",
            "This share link expires in 72 hours. For free permanent hosting and GPU upgrades, run `gradio deploy` from Terminal to deploy to Spaces (https://huggingface.co/spaces)\n"
          ]
        },
        {
          "output_type": "display_data",
          "data": {
            "text/plain": [
              "<IPython.core.display.HTML object>"
            ],
            "text/html": [
              "<div><iframe src=\"https://9b63ab291380d215e0.gradio.live\" width=\"100%\" height=\"500\" allow=\"autoplay; camera; microphone; clipboard-read; clipboard-write;\" frameborder=\"0\" allowfullscreen></iframe></div>"
            ]
          },
          "metadata": {}
        },
        {
          "output_type": "execute_result",
          "data": {
            "text/plain": []
          },
          "metadata": {},
          "execution_count": 22
        }
      ]
    },
    {
      "cell_type": "markdown",
      "source": [
        "RNN Based Model"
      ],
      "metadata": {
        "id": "kqP-9MvZlo0x"
      }
    },
    {
      "cell_type": "code",
      "source": [
        "from keras.models import Sequential\n",
        "from keras.layers import SimpleRNN,Dense,Embedding,LSTM,Dropout\n",
        "from tensorflow.keras.preprocessing.text import Tokenizer\n",
        "from keras.preprocessing.sequence import pad_sequences\n",
        "from keras.utils import to_categorical"
      ],
      "metadata": {
        "id": "BwGXXR4-GzUt"
      },
      "execution_count": null,
      "outputs": []
    },
    {
      "cell_type": "markdown",
      "source": [
        "Tokenize the text"
      ],
      "metadata": {
        "id": "rLpmgFaemfsy"
      }
    },
    {
      "cell_type": "code",
      "source": [
        "max_words = 10000\n",
        "tokenizer = Tokenizer(num_words=max_words)\n",
        "tokenizer.fit_on_texts(data['text'])\n",
        "sequences = tokenizer.texts_to_sequences(data['text'])"
      ],
      "metadata": {
        "id": "Rjr2lwrgmXNv"
      },
      "execution_count": null,
      "outputs": []
    },
    {
      "cell_type": "code",
      "source": [
        "vocab = tokenizer.word_index\n",
        "vocab"
      ],
      "metadata": {
        "colab": {
          "base_uri": "https://localhost:8080/"
        },
        "id": "psz0Lqz9m77s",
        "outputId": "f9b41373-828b-4aa4-9f93-c9e500380841"
      },
      "execution_count": null,
      "outputs": [
        {
          "output_type": "execute_result",
          "data": {
            "text/plain": [
              "{'i': 1,\n",
              " 'to': 2,\n",
              " 'you': 3,\n",
              " 'a': 4,\n",
              " 'the': 5,\n",
              " 'u': 6,\n",
              " 'and': 7,\n",
              " 'in': 8,\n",
              " 'is': 9,\n",
              " 'me': 10,\n",
              " 'my': 11,\n",
              " 'for': 12,\n",
              " 'your': 13,\n",
              " 'it': 14,\n",
              " 'of': 15,\n",
              " 'call': 16,\n",
              " 'have': 17,\n",
              " 'on': 18,\n",
              " '2': 19,\n",
              " 'that': 20,\n",
              " 'now': 21,\n",
              " 'are': 22,\n",
              " 'so': 23,\n",
              " 'but': 24,\n",
              " 'not': 25,\n",
              " 'or': 26,\n",
              " 'do': 27,\n",
              " 'can': 28,\n",
              " 'at': 29,\n",
              " \"i'm\": 30,\n",
              " 'get': 31,\n",
              " 'be': 32,\n",
              " 'will': 33,\n",
              " 'if': 34,\n",
              " 'ur': 35,\n",
              " 'with': 36,\n",
              " 'just': 37,\n",
              " 'no': 38,\n",
              " 'we': 39,\n",
              " 'this': 40,\n",
              " 'gt': 41,\n",
              " '4': 42,\n",
              " 'lt': 43,\n",
              " 'up': 44,\n",
              " 'when': 45,\n",
              " 'ok': 46,\n",
              " 'free': 47,\n",
              " 'from': 48,\n",
              " 'how': 49,\n",
              " 'go': 50,\n",
              " 'all': 51,\n",
              " 'out': 52,\n",
              " 'what': 53,\n",
              " 'know': 54,\n",
              " 'like': 55,\n",
              " 'good': 56,\n",
              " 'then': 57,\n",
              " 'got': 58,\n",
              " 'was': 59,\n",
              " 'come': 60,\n",
              " 'its': 61,\n",
              " 'am': 62,\n",
              " 'time': 63,\n",
              " 'only': 64,\n",
              " 'day': 65,\n",
              " 'love': 66,\n",
              " 'there': 67,\n",
              " 'send': 68,\n",
              " 'he': 69,\n",
              " 'want': 70,\n",
              " 'text': 71,\n",
              " 'as': 72,\n",
              " 'txt': 73,\n",
              " 'one': 74,\n",
              " 'going': 75,\n",
              " 'by': 76,\n",
              " 'home': 77,\n",
              " \"i'll\": 78,\n",
              " 'need': 79,\n",
              " 'about': 80,\n",
              " 'r': 81,\n",
              " 'lor': 82,\n",
              " 'sorry': 83,\n",
              " 'stop': 84,\n",
              " 'still': 85,\n",
              " 'see': 86,\n",
              " 'back': 87,\n",
              " 'today': 88,\n",
              " 'n': 89,\n",
              " 'da': 90,\n",
              " 'our': 91,\n",
              " 'reply': 92,\n",
              " 'k': 93,\n",
              " 'dont': 94,\n",
              " 'she': 95,\n",
              " 'mobile': 96,\n",
              " 'take': 97,\n",
              " \"don't\": 98,\n",
              " 'tell': 99,\n",
              " 'hi': 100,\n",
              " 'new': 101,\n",
              " 'later': 102,\n",
              " 'her': 103,\n",
              " 'pls': 104,\n",
              " 'any': 105,\n",
              " 'please': 106,\n",
              " 'think': 107,\n",
              " 'been': 108,\n",
              " 'they': 109,\n",
              " 'phone': 110,\n",
              " 'here': 111,\n",
              " 'week': 112,\n",
              " 'dear': 113,\n",
              " 'did': 114,\n",
              " 'some': 115,\n",
              " 'ì': 116,\n",
              " '1': 117,\n",
              " 'well': 118,\n",
              " 'has': 119,\n",
              " 'much': 120,\n",
              " 'great': 121,\n",
              " 'night': 122,\n",
              " 'oh': 123,\n",
              " 'claim': 124,\n",
              " 'an': 125,\n",
              " 'hope': 126,\n",
              " 'hey': 127,\n",
              " 'msg': 128,\n",
              " 'who': 129,\n",
              " 'him': 130,\n",
              " 'where': 131,\n",
              " 'd': 132,\n",
              " 'more': 133,\n",
              " 'too': 134,\n",
              " 'happy': 135,\n",
              " 'had': 136,\n",
              " 'yes': 137,\n",
              " 'make': 138,\n",
              " 'way': 139,\n",
              " 'c': 140,\n",
              " 'www': 141,\n",
              " 'work': 142,\n",
              " 'give': 143,\n",
              " 'wat': 144,\n",
              " \"it's\": 145,\n",
              " 'number': 146,\n",
              " 'e': 147,\n",
              " 'message': 148,\n",
              " 'should': 149,\n",
              " 'prize': 150,\n",
              " 'tomorrow': 151,\n",
              " 'say': 152,\n",
              " 'right': 153,\n",
              " 'already': 154,\n",
              " 'after': 155,\n",
              " 'ask': 156,\n",
              " 'cash': 157,\n",
              " 'doing': 158,\n",
              " 'said': 159,\n",
              " '3': 160,\n",
              " 'yeah': 161,\n",
              " 'really': 162,\n",
              " 'amp': 163,\n",
              " 'why': 164,\n",
              " 'im': 165,\n",
              " 'meet': 166,\n",
              " 'them': 167,\n",
              " 'life': 168,\n",
              " 'find': 169,\n",
              " 'very': 170,\n",
              " 'morning': 171,\n",
              " 'babe': 172,\n",
              " 'last': 173,\n",
              " 'miss': 174,\n",
              " 'thanks': 175,\n",
              " 'would': 176,\n",
              " 'cos': 177,\n",
              " 'win': 178,\n",
              " 't': 179,\n",
              " 'lol': 180,\n",
              " 'also': 181,\n",
              " 'won': 182,\n",
              " 'let': 183,\n",
              " 'b': 184,\n",
              " 'anything': 185,\n",
              " 'every': 186,\n",
              " '150p': 187,\n",
              " 'com': 188,\n",
              " 'sure': 189,\n",
              " 'pick': 190,\n",
              " 'care': 191,\n",
              " 'urgent': 192,\n",
              " 'nokia': 193,\n",
              " 'sent': 194,\n",
              " 'keep': 195,\n",
              " 'over': 196,\n",
              " 'uk': 197,\n",
              " 'something': 198,\n",
              " 'contact': 199,\n",
              " 'us': 200,\n",
              " 'again': 201,\n",
              " 'buy': 202,\n",
              " 'min': 203,\n",
              " 'wait': 204,\n",
              " 'cant': 205,\n",
              " 'before': 206,\n",
              " \"i've\": 207,\n",
              " 'first': 208,\n",
              " 's': 209,\n",
              " '5': 210,\n",
              " 'even': 211,\n",
              " 'next': 212,\n",
              " 'feel': 213,\n",
              " 'were': 214,\n",
              " 'nice': 215,\n",
              " 'went': 216,\n",
              " 'thing': 217,\n",
              " 'around': 218,\n",
              " 'soon': 219,\n",
              " 'his': 220,\n",
              " 'which': 221,\n",
              " 'someone': 222,\n",
              " \"can't\": 223,\n",
              " 'could': 224,\n",
              " 'place': 225,\n",
              " 'money': 226,\n",
              " 'service': 227,\n",
              " 'off': 228,\n",
              " 'tone': 229,\n",
              " '50': 230,\n",
              " 'tonight': 231,\n",
              " 'late': 232,\n",
              " 'many': 233,\n",
              " 'per': 234,\n",
              " 'customer': 235,\n",
              " 'gonna': 236,\n",
              " 'chat': 237,\n",
              " 'ya': 238,\n",
              " 'sleep': 239,\n",
              " 'always': 240,\n",
              " 'leave': 241,\n",
              " 'co': 242,\n",
              " 'down': 243,\n",
              " 'sms': 244,\n",
              " 'dun': 245,\n",
              " 'friends': 246,\n",
              " 'v': 247,\n",
              " \"that's\": 248,\n",
              " 'gud': 249,\n",
              " 'other': 250,\n",
              " 'wan': 251,\n",
              " 'help': 252,\n",
              " 'x': 253,\n",
              " 'things': 254,\n",
              " 'told': 255,\n",
              " 'wish': 256,\n",
              " 'hello': 257,\n",
              " 'waiting': 258,\n",
              " '16': 259,\n",
              " 'ìï': 260,\n",
              " 'fine': 261,\n",
              " 'special': 262,\n",
              " '18': 263,\n",
              " \"you're\": 264,\n",
              " 'haha': 265,\n",
              " 'coming': 266,\n",
              " 'may': 267,\n",
              " 'name': 268,\n",
              " 'getting': 269,\n",
              " 'done': 270,\n",
              " 'year': 271,\n",
              " 'same': 272,\n",
              " 'guaranteed': 273,\n",
              " 'yet': 274,\n",
              " 'people': 275,\n",
              " 'thk': 276,\n",
              " 'use': 277,\n",
              " 'try': 278,\n",
              " 'friend': 279,\n",
              " 'mins': 280,\n",
              " 'heart': 281,\n",
              " 'thought': 282,\n",
              " '6': 283,\n",
              " 'holiday': 284,\n",
              " 'lunch': 285,\n",
              " 'live': 286,\n",
              " 'man': 287,\n",
              " 'best': 288,\n",
              " 'talk': 289,\n",
              " 'stuff': 290,\n",
              " 'class': 291,\n",
              " 'y': 292,\n",
              " 'smile': 293,\n",
              " \"didn't\": 294,\n",
              " 'draw': 295,\n",
              " 'few': 296,\n",
              " 'cs': 297,\n",
              " 'days': 298,\n",
              " '7': 299,\n",
              " 'being': 300,\n",
              " 'yup': 301,\n",
              " 'trying': 302,\n",
              " 'bit': 303,\n",
              " 'never': 304,\n",
              " 'meeting': 305,\n",
              " 'thats': 306,\n",
              " 'job': 307,\n",
              " 'better': 308,\n",
              " 'house': 309,\n",
              " 'line': 310,\n",
              " 'finish': 311,\n",
              " 'cool': 312,\n",
              " 'long': 313,\n",
              " 'ill': 314,\n",
              " 'ready': 315,\n",
              " 'person': 316,\n",
              " 'having': 317,\n",
              " 'car': 318,\n",
              " 'mind': 319,\n",
              " 'end': 320,\n",
              " 'enjoy': 321,\n",
              " 'å£1': 322,\n",
              " 'latest': 323,\n",
              " 'half': 324,\n",
              " 'play': 325,\n",
              " 'check': 326,\n",
              " 'real': 327,\n",
              " 'yo': 328,\n",
              " 'wk': 329,\n",
              " 'account': 330,\n",
              " 'because': 331,\n",
              " 'dat': 332,\n",
              " 'than': 333,\n",
              " 'chance': 334,\n",
              " 'god': 335,\n",
              " 'lar': 336,\n",
              " 'receive': 337,\n",
              " 'word': 338,\n",
              " 'camera': 339,\n",
              " 'eat': 340,\n",
              " 'awarded': 341,\n",
              " 'wanna': 342,\n",
              " 'nothing': 343,\n",
              " 'guess': 344,\n",
              " 'lot': 345,\n",
              " 'sir': 346,\n",
              " 'problem': 347,\n",
              " '1st': 348,\n",
              " 'world': 349,\n",
              " 'another': 350,\n",
              " 'liao': 351,\n",
              " 'big': 352,\n",
              " 'dinner': 353,\n",
              " 'month': 354,\n",
              " 'ah': 355,\n",
              " 'birthday': 356,\n",
              " 'shows': 357,\n",
              " 'guys': 358,\n",
              " 'start': 359,\n",
              " 'into': 360,\n",
              " 'shit': 361,\n",
              " 'sweet': 362,\n",
              " 'å£1000': 363,\n",
              " 'girl': 364,\n",
              " 'luv': 365,\n",
              " 'jus': 366,\n",
              " 'might': 367,\n",
              " 'box': 368,\n",
              " 'ever': 369,\n",
              " 'quite': 370,\n",
              " 'cost': 371,\n",
              " 'watching': 372,\n",
              " 'room': 373,\n",
              " '150ppm': 374,\n",
              " 'landline': 375,\n",
              " 'bt': 376,\n",
              " 'offer': 377,\n",
              " 'video': 378,\n",
              " 'early': 379,\n",
              " 'xxx': 380,\n",
              " 'speak': 381,\n",
              " 'once': 382,\n",
              " 'aight': 383,\n",
              " 'tv': 384,\n",
              " 'called': 385,\n",
              " 'watch': 386,\n",
              " 'probably': 387,\n",
              " 'rate': 388,\n",
              " 'apply': 389,\n",
              " 'wont': 390,\n",
              " 'remember': 391,\n",
              " 'does': 392,\n",
              " 'maybe': 393,\n",
              " 'hear': 394,\n",
              " 'pa': 395,\n",
              " 'bed': 396,\n",
              " 'forgot': 397,\n",
              " 'll': 398,\n",
              " 'boy': 399,\n",
              " 'po': 400,\n",
              " 'thanx': 401,\n",
              " 'plan': 402,\n",
              " 'shall': 403,\n",
              " 'two': 404,\n",
              " 'minutes': 405,\n",
              " 'sat': 406,\n",
              " 'actually': 407,\n",
              " 'den': 408,\n",
              " 'bad': 409,\n",
              " 'princess': 410,\n",
              " 'fun': 411,\n",
              " '9': 412,\n",
              " 'code': 413,\n",
              " 'pay': 414,\n",
              " 'left': 415,\n",
              " 'ringtone': 416,\n",
              " 'look': 417,\n",
              " 'weekend': 418,\n",
              " 'part': 419,\n",
              " 'between': 420,\n",
              " 'easy': 421,\n",
              " 'reach': 422,\n",
              " 'shopping': 423,\n",
              " 'baby': 424,\n",
              " 'dunno': 425,\n",
              " 'orange': 426,\n",
              " 'office': 427,\n",
              " 'kiss': 428,\n",
              " '2nd': 429,\n",
              " \"he's\": 430,\n",
              " 'dis': 431,\n",
              " '10': 432,\n",
              " 'little': 433,\n",
              " 'leh': 434,\n",
              " 'face': 435,\n",
              " 'didnt': 436,\n",
              " 'hour': 437,\n",
              " 'network': 438,\n",
              " 'selected': 439,\n",
              " 'enough': 440,\n",
              " '000': 441,\n",
              " 'thank': 442,\n",
              " 'bus': 443,\n",
              " \"how's\": 444,\n",
              " 'looking': 445,\n",
              " 'anyway': 446,\n",
              " 'award': 447,\n",
              " 'those': 448,\n",
              " 'm': 449,\n",
              " 'working': 450,\n",
              " 'everything': 451,\n",
              " 'made': 452,\n",
              " 'put': 453,\n",
              " 'wife': 454,\n",
              " 'most': 455,\n",
              " 'afternoon': 456,\n",
              " 'without': 457,\n",
              " 'missing': 458,\n",
              " 'tmr': 459,\n",
              " 'evening': 460,\n",
              " 'collect': 461,\n",
              " 'asked': 462,\n",
              " 'texts': 463,\n",
              " '8': 464,\n",
              " 'while': 465,\n",
              " 'fuck': 466,\n",
              " 'dad': 467,\n",
              " 'town': 468,\n",
              " 'until': 469,\n",
              " 'wif': 470,\n",
              " 'though': 471,\n",
              " \"there's\": 472,\n",
              " 'calls': 473,\n",
              " 'since': 474,\n",
              " 'came': 475,\n",
              " 'okay': 476,\n",
              " 'says': 477,\n",
              " 'must': 478,\n",
              " 'school': 479,\n",
              " 'join': 480,\n",
              " 'mail': 481,\n",
              " 'sexy': 482,\n",
              " 'xmas': 483,\n",
              " 'true': 484,\n",
              " 'details': 485,\n",
              " 'entry': 486,\n",
              " 'goes': 487,\n",
              " 'update': 488,\n",
              " 'wanted': 489,\n",
              " 'pain': 490,\n",
              " 'means': 491,\n",
              " 'abt': 492,\n",
              " 'able': 493,\n",
              " 'hav': 494,\n",
              " 'important': 495,\n",
              " 'g': 496,\n",
              " 'wake': 497,\n",
              " 'tones': 498,\n",
              " 'wot': 499,\n",
              " 'bring': 500,\n",
              " 'collection': 501,\n",
              " 'times': 502,\n",
              " 'messages': 503,\n",
              " 'missed': 504,\n",
              " 'mob': 505,\n",
              " 'show': 506,\n",
              " 'price': 507,\n",
              " 'juz': 508,\n",
              " 'years': 509,\n",
              " 'decimal': 510,\n",
              " 'plz': 511,\n",
              " 'de': 512,\n",
              " 'away': 513,\n",
              " 'gift': 514,\n",
              " 'plus': 515,\n",
              " 'valid': 516,\n",
              " 'å£100': 517,\n",
              " 'alright': 518,\n",
              " 'till': 519,\n",
              " 're': 520,\n",
              " 'saw': 521,\n",
              " 'yesterday': 522,\n",
              " 'hair': 523,\n",
              " 'wen': 524,\n",
              " 'havent': 525,\n",
              " 'else': 526,\n",
              " 'worry': 527,\n",
              " '500': 528,\n",
              " '10p': 529,\n",
              " 'music': 530,\n",
              " 'weekly': 531,\n",
              " 'attempt': 532,\n",
              " 'guy': 533,\n",
              " 'colour': 534,\n",
              " 'net': 535,\n",
              " 'words': 536,\n",
              " 'yours': 537,\n",
              " 'double': 538,\n",
              " 'run': 539,\n",
              " 'making': 540,\n",
              " 'food': 541,\n",
              " 'haf': 542,\n",
              " 'til': 543,\n",
              " 'id': 544,\n",
              " 'oso': 545,\n",
              " 'shop': 546,\n",
              " 'book': 547,\n",
              " 'dude': 548,\n",
              " 'stay': 549,\n",
              " 'bored': 550,\n",
              " 'online': 551,\n",
              " 'makes': 552,\n",
              " 'lei': 553,\n",
              " 'question': 554,\n",
              " 'national': 555,\n",
              " 'ard': 556,\n",
              " \"we're\": 557,\n",
              " \"won't\": 558,\n",
              " 'tried': 559,\n",
              " 'delivery': 560,\n",
              " 'yourself': 561,\n",
              " \"haven't\": 562,\n",
              " 'driving': 563,\n",
              " 'test': 564,\n",
              " 'address': 565,\n",
              " 'answer': 566,\n",
              " 'top': 567,\n",
              " 'coz': 568,\n",
              " \"what's\": 569,\n",
              " 'nite': 570,\n",
              " 'hot': 571,\n",
              " 'hurt': 572,\n",
              " 'friendship': 573,\n",
              " 'change': 574,\n",
              " 'feeling': 575,\n",
              " 'either': 576,\n",
              " 'these': 577,\n",
              " 'sch': 578,\n",
              " 'family': 579,\n",
              " 'goin': 580,\n",
              " 'hours': 581,\n",
              " 'date': 582,\n",
              " 'http': 583,\n",
              " 'bonus': 584,\n",
              " 'trip': 585,\n",
              " 'comes': 586,\n",
              " 'å£5000': 587,\n",
              " 'movie': 588,\n",
              " 'busy': 589,\n",
              " \"''\": 590,\n",
              " 'todays': 591,\n",
              " 'order': 592,\n",
              " 'believe': 593,\n",
              " 'both': 594,\n",
              " 'vouchers': 595,\n",
              " 'wid': 596,\n",
              " 'full': 597,\n",
              " 'calling': 598,\n",
              " 'tot': 599,\n",
              " 'beautiful': 600,\n",
              " 'sae': 601,\n",
              " 'lose': 602,\n",
              " 'game': 603,\n",
              " 'together': 604,\n",
              " 'wants': 605,\n",
              " '8007': 606,\n",
              " 'sad': 607,\n",
              " 'set': 608,\n",
              " 'smiling': 609,\n",
              " 'mean': 610,\n",
              " 'old': 611,\n",
              " 'points': 612,\n",
              " 'å£2000': 613,\n",
              " 'leaving': 614,\n",
              " 'story': 615,\n",
              " 'sleeping': 616,\n",
              " 'noe': 617,\n",
              " 'happen': 618,\n",
              " 'ring': 619,\n",
              " 'club': 620,\n",
              " 'charge': 621,\n",
              " 'games': 622,\n",
              " \"we'll\": 623,\n",
              " 'chikku': 624,\n",
              " 'huh': 625,\n",
              " 'eve': 626,\n",
              " 'å£500': 627,\n",
              " 'saying': 628,\n",
              " 'drive': 629,\n",
              " 'await': 630,\n",
              " 'dreams': 631,\n",
              " 'brother': 632,\n",
              " 'pounds': 633,\n",
              " 'news': 634,\n",
              " 'aft': 635,\n",
              " 'tomo': 636,\n",
              " 'congrats': 637,\n",
              " 'took': 638,\n",
              " 'finished': 639,\n",
              " 'started': 640,\n",
              " 'private': 641,\n",
              " 'gr8': 642,\n",
              " 'awesome': 643,\n",
              " 'minute': 644,\n",
              " 'walk': 645,\n",
              " '86688': 646,\n",
              " 'okie': 647,\n",
              " 'post': 648,\n",
              " 'row': 649,\n",
              " 'poly': 650,\n",
              " 'pm': 651,\n",
              " 'thinking': 652,\n",
              " 'pics': 653,\n",
              " 'email': 654,\n",
              " 'rite': 655,\n",
              " 'pic': 656,\n",
              " 'available': 657,\n",
              " 'final': 658,\n",
              " \"c's\": 659,\n",
              " 'tho': 660,\n",
              " 'forget': 661,\n",
              " 'second': 662,\n",
              " 'close': 663,\n",
              " 'cause': 664,\n",
              " 'services': 665,\n",
              " 'taking': 666,\n",
              " 'everyone': 667,\n",
              " 'wil': 668,\n",
              " 'angry': 669,\n",
              " '750': 670,\n",
              " 'unsubscribe': 671,\n",
              " 'lets': 672,\n",
              " 'drink': 673,\n",
              " 'head': 674,\n",
              " 'land': 675,\n",
              " 'gd': 676,\n",
              " 'neva': 677,\n",
              " 'pub': 678,\n",
              " \"she's\": 679,\n",
              " 'drop': 680,\n",
              " 'auction': 681,\n",
              " '11': 682,\n",
              " 'lesson': 683,\n",
              " 'lucky': 684,\n",
              " 'xx': 685,\n",
              " 'search': 686,\n",
              " '12hrs': 687,\n",
              " 'statement': 688,\n",
              " 'expires': 689,\n",
              " 'msgs': 690,\n",
              " 'open': 691,\n",
              " 'whats': 692,\n",
              " 'lots': 693,\n",
              " 'each': 694,\n",
              " 'smoke': 695,\n",
              " 'worth': 696,\n",
              " 'sis': 697,\n",
              " 'touch': 698,\n",
              " 'found': 699,\n",
              " 'break': 700,\n",
              " 'sounds': 701,\n",
              " 'company': 702,\n",
              " 'choose': 703,\n",
              " 'card': 704,\n",
              " 'w': 705,\n",
              " 'sister': 706,\n",
              " 'dating': 707,\n",
              " 'opt': 708,\n",
              " 'simple': 709,\n",
              " 'mine': 710,\n",
              " 'whatever': 711,\n",
              " 'voucher': 712,\n",
              " 'knw': 713,\n",
              " 'anyone': 714,\n",
              " 'don': 715,\n",
              " 'loving': 716,\n",
              " 'alone': 717,\n",
              " 'treat': 718,\n",
              " 'winner': 719,\n",
              " '100': 720,\n",
              " 'info': 721,\n",
              " 'pobox': 722,\n",
              " 'ha': 723,\n",
              " 'smth': 724,\n",
              " 'saturday': 725,\n",
              " 'decided': 726,\n",
              " '08000930705': 727,\n",
              " 'girls': 728,\n",
              " 'prob': 729,\n",
              " 'gone': 730,\n",
              " 'happened': 731,\n",
              " 'identifier': 732,\n",
              " 'nt': 733,\n",
              " 'type': 734,\n",
              " 'ltd': 735,\n",
              " 'hard': 736,\n",
              " 'frnd': 737,\n",
              " 'needs': 738,\n",
              " 'carlos': 739,\n",
              " 'boytoy': 740,\n",
              " 'college': 741,\n",
              " 'takes': 742,\n",
              " 'anytime': 743,\n",
              " 'far': 744,\n",
              " 'mobileupd8': 745,\n",
              " 'kind': 746,\n",
              " 'visit': 747,\n",
              " 'fast': 748,\n",
              " 'mum': 749,\n",
              " 'sun': 750,\n",
              " 'crazy': 751,\n",
              " 'wonderful': 752,\n",
              " \"doesn't\": 753,\n",
              " 'camcorder': 754,\n",
              " 'used': 755,\n",
              " 'hit': 756,\n",
              " 'operator': 757,\n",
              " 'friday': 758,\n",
              " 'quiz': 759,\n",
              " 'player': 760,\n",
              " 'parents': 761,\n",
              " 'hand': 762,\n",
              " 'content': 763,\n",
              " 'wit': 764,\n",
              " \"you've\": 765,\n",
              " 'finally': 766,\n",
              " 'darlin': 767,\n",
              " 'rs': 768,\n",
              " 'goodmorning': 769,\n",
              " 'oredi': 770,\n",
              " 'secret': 771,\n",
              " 'tel': 772,\n",
              " 'congratulations': 773,\n",
              " 'read': 774,\n",
              " 'light': 775,\n",
              " 'suite342': 776,\n",
              " '2lands': 777,\n",
              " '08000839402': 778,\n",
              " 'bout': 779,\n",
              " 'fucking': 780,\n",
              " 'nope': 781,\n",
              " 'outside': 782,\n",
              " 'fri': 783,\n",
              " 'å£3': 784,\n",
              " 'pretty': 785,\n",
              " 'sea': 786,\n",
              " 'o': 787,\n",
              " 'weeks': 788,\n",
              " '\\x89û': 789,\n",
              " 'lovely': 790,\n",
              " 'mates': 791,\n",
              " 'wrong': 792,\n",
              " 'chennai': 793,\n",
              " 'hows': 794,\n",
              " '30': 795,\n",
              " 'wkly': 796,\n",
              " 'freemsg': 797,\n",
              " \"'\": 798,\n",
              " 'sunday': 799,\n",
              " 'credit': 800,\n",
              " 'hungry': 801,\n",
              " 'seeing': 802,\n",
              " 'telling': 803,\n",
              " 'whole': 804,\n",
              " 'frnds': 805,\n",
              " 'hmm': 806,\n",
              " 'mu': 807,\n",
              " \"you'll\": 808,\n",
              " 'yr': 809,\n",
              " 'their': 810,\n",
              " 'ni8': 811,\n",
              " 'f': 812,\n",
              " 'fancy': 813,\n",
              " 'bank': 814,\n",
              " 'log': 815,\n",
              " 'course': 816,\n",
              " 'tc': 817,\n",
              " 'thinks': 818,\n",
              " 'case': 819,\n",
              " 'meant': 820,\n",
              " 'hold': 821,\n",
              " 'unlimited': 822,\n",
              " 'blue': 823,\n",
              " 'fone': 824,\n",
              " 'project': 825,\n",
              " 'reason': 826,\n",
              " 'å£250': 827,\n",
              " 'ten': 828,\n",
              " 'welcome': 829,\n",
              " 'cum': 830,\n",
              " 'frm': 831,\n",
              " 'savamob': 832,\n",
              " 'offers': 833,\n",
              " 'listen': 834,\n",
              " 'snow': 835,\n",
              " 'b4': 836,\n",
              " 'mate': 837,\n",
              " 'least': 838,\n",
              " 'earlier': 839,\n",
              " 'party': 840,\n",
              " 'point': 841,\n",
              " 'press': 842,\n",
              " 'valued': 843,\n",
              " 'almost': 844,\n",
              " 'etc': 845,\n",
              " 'cut': 846,\n",
              " 'hee': 847,\n",
              " 'download': 848,\n",
              " '0800': 849,\n",
              " 'mah': 850,\n",
              " 'felt': 851,\n",
              " 'caller': 852,\n",
              " '03': 853,\n",
              " 'numbers': 854,\n",
              " 'age': 855,\n",
              " 'tired': 856,\n",
              " 'hmmm': 857,\n",
              " 'mr': 858,\n",
              " 'mrng': 859,\n",
              " 'balance': 860,\n",
              " 'march': 861,\n",
              " 'side': 862,\n",
              " 'fr': 863,\n",
              " '87066': 864,\n",
              " 'dnt': 865,\n",
              " 'stupid': 866,\n",
              " 'bslvyl': 867,\n",
              " 'lost': 868,\n",
              " 'christmas': 869,\n",
              " 'reading': 870,\n",
              " 'txts': 871,\n",
              " 'ago': 872,\n",
              " 'currently': 873,\n",
              " 'motorola': 874,\n",
              " 'talking': 875,\n",
              " 'couple': 876,\n",
              " 'phones': 877,\n",
              " 'ass': 878,\n",
              " 'india': 879,\n",
              " 'park': 880,\n",
              " 'å£2': 881,\n",
              " 'within': 882,\n",
              " '2003': 883,\n",
              " '800': 884,\n",
              " 'un': 885,\n",
              " 'yar': 886,\n",
              " 'happiness': 887,\n",
              " 'area': 888,\n",
              " 'å£350': 889,\n",
              " 'sex': 890,\n",
              " 'mayb': 891,\n",
              " 'understand': 892,\n",
              " 'support': 893,\n",
              " 'na': 894,\n",
              " 'luck': 895,\n",
              " 'enter': 896,\n",
              " 'gas': 897,\n",
              " 'father': 898,\n",
              " 'comp': 899,\n",
              " \"i'd\": 900,\n",
              " 'mobiles': 901,\n",
              " '20': 902,\n",
              " 'eh': 903,\n",
              " 'charged': 904,\n",
              " 'confirm': 905,\n",
              " 'wow': 906,\n",
              " 'ac': 907,\n",
              " 'red': 908,\n",
              " 'correct': 909,\n",
              " 'pass': 910,\n",
              " 'song': 911,\n",
              " 'complimentary': 912,\n",
              " 'gotta': 913,\n",
              " 'computer': 914,\n",
              " 'mom': 915,\n",
              " 'askd': 916,\n",
              " 'invited': 917,\n",
              " 'uncle': 918,\n",
              " 'sending': 919,\n",
              " 'direct': 920,\n",
              " 'semester': 921,\n",
              " 'reveal': 922,\n",
              " 'laptop': 923,\n",
              " 'questions': 924,\n",
              " 'swing': 925,\n",
              " 'ends': 926,\n",
              " 'die': 927,\n",
              " 'via': 928,\n",
              " 'met': 929,\n",
              " 'st': 930,\n",
              " 'call2optout': 931,\n",
              " 'seen': 932,\n",
              " 'rental': 933,\n",
              " 'th': 934,\n",
              " 'supposed': 935,\n",
              " 'ipod': 936,\n",
              " 'redeemed': 937,\n",
              " '04': 938,\n",
              " 'through': 939,\n",
              " 'gym': 940,\n",
              " 'darren': 941,\n",
              " 'ans': 942,\n",
              " 'picking': 943,\n",
              " 'ugh': 944,\n",
              " 'extra': 945,\n",
              " 'knew': 946,\n",
              " 'heard': 947,\n",
              " 'information': 948,\n",
              " 'surprise': 949,\n",
              " 'grins': 950,\n",
              " 'gal': 951,\n",
              " 'difficult': 952,\n",
              " 'john': 953,\n",
              " \"wasn't\": 954,\n",
              " 'std': 955,\n",
              " 'usf': 956,\n",
              " 'reward': 957,\n",
              " '12': 958,\n",
              " 'wap': 959,\n",
              " 'eg': 960,\n",
              " 'comin': 961,\n",
              " 'abiola': 962,\n",
              " 'crave': 963,\n",
              " 'gets': 964,\n",
              " 'move': 965,\n",
              " 'checking': 966,\n",
              " 'rply': 967,\n",
              " 'loads': 968,\n",
              " 'shower': 969,\n",
              " \"isn't\": 970,\n",
              " 'entered': 971,\n",
              " 'match': 972,\n",
              " 'dogging': 973,\n",
              " 'txting': 974,\n",
              " 'lovable': 975,\n",
              " 'wine': 976,\n",
              " 'dream': 977,\n",
              " 'safe': 978,\n",
              " 'muz': 979,\n",
              " 'bath': 980,\n",
              " 'orchard': 981,\n",
              " 'kate': 982,\n",
              " 'exam': 983,\n",
              " 'bcoz': 984,\n",
              " 'own': 985,\n",
              " 'wana': 986,\n",
              " 'somebody': 987,\n",
              " 'rest': 988,\n",
              " 'plans': 989,\n",
              " 'small': 990,\n",
              " 'jay': 991,\n",
              " 'ex': 992,\n",
              " 'hg': 993,\n",
              " 'w1j6hl': 994,\n",
              " 'discount': 995,\n",
              " 'slow': 996,\n",
              " 'rock': 997,\n",
              " 'asking': 998,\n",
              " 'remove': 999,\n",
              " 'monday': 1000,\n",
              " ...}"
            ]
          },
          "metadata": {},
          "execution_count": 41
        }
      ]
    },
    {
      "cell_type": "code",
      "source": [
        "len(vocab)"
      ],
      "metadata": {
        "colab": {
          "base_uri": "https://localhost:8080/"
        },
        "id": "ByReCrsCnX-V",
        "outputId": "135d4222-dfa4-4103-964c-c138af378d24"
      },
      "execution_count": null,
      "outputs": [
        {
          "output_type": "execute_result",
          "data": {
            "text/plain": [
              "8920"
            ]
          },
          "metadata": {},
          "execution_count": 42
        }
      ]
    },
    {
      "cell_type": "markdown",
      "source": [
        "Padding"
      ],
      "metadata": {
        "id": "2ULPG3r_pkgE"
      }
    },
    {
      "cell_type": "code",
      "source": [
        "max_length = 100\n",
        "x = pad_sequences(sequences,maxlen=max_length)"
      ],
      "metadata": {
        "id": "ADXJZYsynibB"
      },
      "execution_count": null,
      "outputs": []
    },
    {
      "cell_type": "code",
      "source": [
        "x.shape"
      ],
      "metadata": {
        "colab": {
          "base_uri": "https://localhost:8080/"
        },
        "id": "u-bBekRVqKjY",
        "outputId": "c493abe3-9194-4329-da41-e90512cc8674"
      },
      "execution_count": null,
      "outputs": [
        {
          "output_type": "execute_result",
          "data": {
            "text/plain": [
              "(5572, 100)"
            ]
          },
          "metadata": {},
          "execution_count": 44
        }
      ]
    },
    {
      "cell_type": "markdown",
      "source": [
        "split the train and test"
      ],
      "metadata": {
        "id": "CDrQ4VOdqhlr"
      }
    },
    {
      "cell_type": "code",
      "source": [
        "x_train,x_test,y_train,y_test = train_test_split(x,y,test_size=0.2,random_state=123)"
      ],
      "metadata": {
        "id": "5V8t4ldZqMFJ"
      },
      "execution_count": null,
      "outputs": []
    },
    {
      "cell_type": "code",
      "source": [
        "print(x_train.shape)\n",
        "print(x_test.shape)\n",
        "print(y_train.shape)\n",
        "print(y_test.shape)"
      ],
      "metadata": {
        "colab": {
          "base_uri": "https://localhost:8080/"
        },
        "id": "oxmm9UsSqtUg",
        "outputId": "e821c185-5351-459c-8145-0c1a4614556f"
      },
      "execution_count": null,
      "outputs": [
        {
          "output_type": "stream",
          "name": "stdout",
          "text": [
            "(4457, 100)\n",
            "(1115, 100)\n",
            "(4457,)\n",
            "(1115,)\n"
          ]
        }
      ]
    },
    {
      "cell_type": "code",
      "source": [
        "y_train = [1 if labels =='spam' else 0 for labels in y_train]\n",
        "y_test = [1 if labels =='spam' else 0 for labels in y_test]\n",
        "y_train = to_categorical(y_train)\n",
        "y_test = to_categorical(y_test)"
      ],
      "metadata": {
        "id": "qevPTevbq3HS"
      },
      "execution_count": null,
      "outputs": []
    },
    {
      "cell_type": "code",
      "source": [
        "print(y_train)\n",
        "print(y_test)"
      ],
      "metadata": {
        "colab": {
          "base_uri": "https://localhost:8080/"
        },
        "id": "bZemzGDXsBoA",
        "outputId": "1449598e-3940-406d-c7ed-dfb2610b743b"
      },
      "execution_count": null,
      "outputs": [
        {
          "output_type": "stream",
          "name": "stdout",
          "text": [
            "[[1. 0.]\n",
            " [1. 0.]\n",
            " [1. 0.]\n",
            " ...\n",
            " [1. 0.]\n",
            " [1. 0.]\n",
            " [1. 0.]]\n",
            "[[1. 0.]\n",
            " [0. 1.]\n",
            " [1. 0.]\n",
            " ...\n",
            " [1. 0.]\n",
            " [1. 0.]\n",
            " [1. 0.]]\n"
          ]
        }
      ]
    },
    {
      "cell_type": "markdown",
      "source": [
        "Model the data"
      ],
      "metadata": {
        "id": "b-5lT_qXsWuZ"
      }
    },
    {
      "cell_type": "code",
      "source": [
        "model = Sequential()\n",
        "model.add(Embedding(input_dim=max_words,output_dim=100,input_length=100))\n",
        "model.add(SimpleRNN(units=64))\n",
        "model.add(Dense(units=2,activation='sigmoid'))"
      ],
      "metadata": {
        "id": "OnU2cNNnsFUd"
      },
      "execution_count": null,
      "outputs": []
    },
    {
      "cell_type": "code",
      "source": [
        "model.compile(optimizer='adam',loss='binary_crossentropy',metrics=['accuracy'])"
      ],
      "metadata": {
        "id": "xdeU8KyptWG3"
      },
      "execution_count": null,
      "outputs": []
    },
    {
      "cell_type": "code",
      "source": [
        "hist = model.fit(x_train,y_train,epochs=25,batch_size=32,validation_data=(x_test,y_test))"
      ],
      "metadata": {
        "colab": {
          "base_uri": "https://localhost:8080/"
        },
        "id": "Ae_H2ybetsG3",
        "outputId": "38abe9d4-caa0-4c59-d7b1-63f314984382"
      },
      "execution_count": null,
      "outputs": [
        {
          "output_type": "stream",
          "name": "stdout",
          "text": [
            "Epoch 1/25\n",
            "\u001b[1m140/140\u001b[0m \u001b[32m━━━━━━━━━━━━━━━━━━━━\u001b[0m\u001b[37m\u001b[0m \u001b[1m8s\u001b[0m 38ms/step - accuracy: 0.8802 - loss: 0.3353 - val_accuracy: 0.9821 - val_loss: 0.0612\n",
            "Epoch 2/25\n",
            "\u001b[1m140/140\u001b[0m \u001b[32m━━━━━━━━━━━━━━━━━━━━\u001b[0m\u001b[37m\u001b[0m \u001b[1m12s\u001b[0m 47ms/step - accuracy: 0.9890 - loss: 0.0456 - val_accuracy: 0.9758 - val_loss: 0.0715\n",
            "Epoch 3/25\n",
            "\u001b[1m140/140\u001b[0m \u001b[32m━━━━━━━━━━━━━━━━━━━━\u001b[0m\u001b[37m\u001b[0m \u001b[1m6s\u001b[0m 41ms/step - accuracy: 0.9956 - loss: 0.0188 - val_accuracy: 0.9865 - val_loss: 0.0485\n",
            "Epoch 4/25\n",
            "\u001b[1m140/140\u001b[0m \u001b[32m━━━━━━━━━━━━━━━━━━━━\u001b[0m\u001b[37m\u001b[0m \u001b[1m7s\u001b[0m 54ms/step - accuracy: 0.9993 - loss: 0.0068 - val_accuracy: 0.9874 - val_loss: 0.0539\n",
            "Epoch 5/25\n",
            "\u001b[1m140/140\u001b[0m \u001b[32m━━━━━━━━━━━━━━━━━━━━\u001b[0m\u001b[37m\u001b[0m \u001b[1m8s\u001b[0m 36ms/step - accuracy: 0.9996 - loss: 0.0043 - val_accuracy: 0.9874 - val_loss: 0.0525\n",
            "Epoch 6/25\n",
            "\u001b[1m140/140\u001b[0m \u001b[32m━━━━━━━━━━━━━━━━━━━━\u001b[0m\u001b[37m\u001b[0m \u001b[1m7s\u001b[0m 51ms/step - accuracy: 0.9991 - loss: 0.0039 - val_accuracy: 0.9848 - val_loss: 0.0539\n",
            "Epoch 7/25\n",
            "\u001b[1m140/140\u001b[0m \u001b[32m━━━━━━━━━━━━━━━━━━━━\u001b[0m\u001b[37m\u001b[0m \u001b[1m8s\u001b[0m 37ms/step - accuracy: 0.9997 - loss: 0.0027 - val_accuracy: 0.9883 - val_loss: 0.0539\n",
            "Epoch 8/25\n",
            "\u001b[1m140/140\u001b[0m \u001b[32m━━━━━━━━━━━━━━━━━━━━\u001b[0m\u001b[37m\u001b[0m \u001b[1m7s\u001b[0m 51ms/step - accuracy: 0.9998 - loss: 0.0011 - val_accuracy: 0.9821 - val_loss: 0.0565\n",
            "Epoch 9/25\n",
            "\u001b[1m140/140\u001b[0m \u001b[32m━━━━━━━━━━━━━━━━━━━━\u001b[0m\u001b[37m\u001b[0m \u001b[1m5s\u001b[0m 37ms/step - accuracy: 0.9996 - loss: 0.0013 - val_accuracy: 0.9883 - val_loss: 0.0496\n",
            "Epoch 10/25\n",
            "\u001b[1m140/140\u001b[0m \u001b[32m━━━━━━━━━━━━━━━━━━━━\u001b[0m\u001b[37m\u001b[0m \u001b[1m12s\u001b[0m 48ms/step - accuracy: 0.9999 - loss: 5.3432e-04 - val_accuracy: 0.9892 - val_loss: 0.0525\n",
            "Epoch 11/25\n",
            "\u001b[1m140/140\u001b[0m \u001b[32m━━━━━━━━━━━━━━━━━━━━\u001b[0m\u001b[37m\u001b[0m \u001b[1m5s\u001b[0m 36ms/step - accuracy: 1.0000 - loss: 5.6441e-04 - val_accuracy: 0.9883 - val_loss: 0.0594\n",
            "Epoch 12/25\n",
            "\u001b[1m140/140\u001b[0m \u001b[32m━━━━━━━━━━━━━━━━━━━━\u001b[0m\u001b[37m\u001b[0m \u001b[1m7s\u001b[0m 54ms/step - accuracy: 1.0000 - loss: 3.6977e-04 - val_accuracy: 0.9874 - val_loss: 0.0747\n",
            "Epoch 13/25\n",
            "\u001b[1m140/140\u001b[0m \u001b[32m━━━━━━━━━━━━━━━━━━━━\u001b[0m\u001b[37m\u001b[0m \u001b[1m8s\u001b[0m 36ms/step - accuracy: 1.0000 - loss: 2.1381e-04 - val_accuracy: 0.9874 - val_loss: 0.0812\n",
            "Epoch 14/25\n",
            "\u001b[1m140/140\u001b[0m \u001b[32m━━━━━━━━━━━━━━━━━━━━\u001b[0m\u001b[37m\u001b[0m \u001b[1m7s\u001b[0m 52ms/step - accuracy: 1.0000 - loss: 2.0532e-04 - val_accuracy: 0.9874 - val_loss: 0.0850\n",
            "Epoch 15/25\n",
            "\u001b[1m140/140\u001b[0m \u001b[32m━━━━━━━━━━━━━━━━━━━━\u001b[0m\u001b[37m\u001b[0m \u001b[1m5s\u001b[0m 36ms/step - accuracy: 1.0000 - loss: 1.0626e-04 - val_accuracy: 0.9874 - val_loss: 0.0862\n",
            "Epoch 16/25\n",
            "\u001b[1m140/140\u001b[0m \u001b[32m━━━━━━━━━━━━━━━━━━━━\u001b[0m\u001b[37m\u001b[0m \u001b[1m6s\u001b[0m 39ms/step - accuracy: 1.0000 - loss: 1.1136e-04 - val_accuracy: 0.9874 - val_loss: 0.0898\n",
            "Epoch 17/25\n",
            "\u001b[1m140/140\u001b[0m \u001b[32m━━━━━━━━━━━━━━━━━━━━\u001b[0m\u001b[37m\u001b[0m \u001b[1m10s\u001b[0m 36ms/step - accuracy: 1.0000 - loss: 7.8282e-05 - val_accuracy: 0.9874 - val_loss: 0.0913\n",
            "Epoch 18/25\n",
            "\u001b[1m140/140\u001b[0m \u001b[32m━━━━━━━━━━━━━━━━━━━━\u001b[0m\u001b[37m\u001b[0m \u001b[1m7s\u001b[0m 53ms/step - accuracy: 1.0000 - loss: 6.7954e-05 - val_accuracy: 0.9874 - val_loss: 0.0933\n",
            "Epoch 19/25\n",
            "\u001b[1m140/140\u001b[0m \u001b[32m━━━━━━━━━━━━━━━━━━━━\u001b[0m\u001b[37m\u001b[0m \u001b[1m8s\u001b[0m 36ms/step - accuracy: 1.0000 - loss: 6.5462e-05 - val_accuracy: 0.9874 - val_loss: 0.0958\n",
            "Epoch 20/25\n",
            "\u001b[1m140/140\u001b[0m \u001b[32m━━━━━━━━━━━━━━━━━━━━\u001b[0m\u001b[37m\u001b[0m \u001b[1m7s\u001b[0m 53ms/step - accuracy: 1.0000 - loss: 4.8397e-05 - val_accuracy: 0.9874 - val_loss: 0.0971\n",
            "Epoch 21/25\n",
            "\u001b[1m140/140\u001b[0m \u001b[32m━━━━━━━━━━━━━━━━━━━━\u001b[0m\u001b[37m\u001b[0m \u001b[1m5s\u001b[0m 36ms/step - accuracy: 1.0000 - loss: 4.6015e-05 - val_accuracy: 0.9874 - val_loss: 0.0989\n",
            "Epoch 22/25\n",
            "\u001b[1m140/140\u001b[0m \u001b[32m━━━━━━━━━━━━━━━━━━━━\u001b[0m\u001b[37m\u001b[0m \u001b[1m5s\u001b[0m 36ms/step - accuracy: 1.0000 - loss: 3.8780e-05 - val_accuracy: 0.9874 - val_loss: 0.1006\n",
            "Epoch 23/25\n",
            "\u001b[1m140/140\u001b[0m \u001b[32m━━━━━━━━━━━━━━━━━━━━\u001b[0m\u001b[37m\u001b[0m \u001b[1m7s\u001b[0m 51ms/step - accuracy: 1.0000 - loss: 3.6939e-05 - val_accuracy: 0.9874 - val_loss: 0.1024\n",
            "Epoch 24/25\n",
            "\u001b[1m140/140\u001b[0m \u001b[32m━━━━━━━━━━━━━━━━━━━━\u001b[0m\u001b[37m\u001b[0m \u001b[1m5s\u001b[0m 37ms/step - accuracy: 1.0000 - loss: 3.3540e-05 - val_accuracy: 0.9874 - val_loss: 0.1037\n",
            "Epoch 25/25\n",
            "\u001b[1m140/140\u001b[0m \u001b[32m━━━━━━━━━━━━━━━━━━━━\u001b[0m\u001b[37m\u001b[0m \u001b[1m12s\u001b[0m 50ms/step - accuracy: 1.0000 - loss: 2.9055e-05 - val_accuracy: 0.9874 - val_loss: 0.1050\n"
          ]
        }
      ]
    },
    {
      "cell_type": "code",
      "source": [
        "plt.plot(hist.history['loss'])\n",
        "plt.plot(hist.history['val_loss'])\n",
        "plt.plot(hist.history['accuracy'])\n",
        "plt.plot(hist.history['val_accuracy'])\n",
        "plt.show()"
      ],
      "metadata": {
        "colab": {
          "base_uri": "https://localhost:8080/",
          "height": 430
        },
        "id": "S2Ap9EMFuNZ5",
        "outputId": "e78c9452-ce97-402a-e061-39f92a8d9fad"
      },
      "execution_count": null,
      "outputs": [
        {
          "output_type": "display_data",
          "data": {
            "text/plain": [
              "<Figure size 640x480 with 1 Axes>"
            ],
            "image/png": "[encoded data removed]"
          },
          "metadata": {}
        }
      ]
    },
    {
      "cell_type": "code",
      "source": [
        "# prompt: confusion matrix\n",
        "\n",
        "from sklearn.metrics import confusion_matrix\n",
        "y_pred = model.predict(x_test)\n",
        "print(y_pred)"
      ],
      "metadata": {
        "colab": {
          "base_uri": "https://localhost:8080/"
        },
        "id": "FTvR23tBvNJK",
        "outputId": "37b8f322-5a09-4085-df78-50e449d43572"
      },
      "execution_count": null,
      "outputs": [
        {
          "output_type": "stream",
          "name": "stdout",
          "text": [
            "\u001b[1m35/35\u001b[0m \u001b[32m━━━━━━━━━━━━━━━━━━━━\u001b[0m\u001b[37m\u001b[0m \u001b[1m1s\u001b[0m 21ms/step\n",
            "[[9.9996960e-01 4.3990436e-05]\n",
            " [9.3834442e-06 9.9998474e-01]\n",
            " [9.9998468e-01 2.0644709e-05]\n",
            " ...\n",
            " [9.9998790e-01 1.7124516e-05]\n",
            " [9.9999511e-01 8.3424657e-06]\n",
            " [9.9997032e-01 3.6414622e-05]]\n"
          ]
        }
      ]
    },
    {
      "cell_type": "code",
      "source": [
        "y_test = np.argmax(y_test,axis=1)\n",
        "y_pred = np.argmax(y_pred,axis=1)"
      ],
      "metadata": {
        "id": "9PhmbYRErIED"
      },
      "execution_count": null,
      "outputs": []
    },
    {
      "cell_type": "code",
      "source": [
        "disp = ConfusionMatrixDisplay(confusion_matrix=confusion_matrix(y_test,y_pred))\n",
        "disp.plot()\n",
        "plt.show()"
      ],
      "metadata": {
        "colab": {
          "base_uri": "https://localhost:8080/",
          "height": 449
        },
        "id": "WmertkKOrVOR",
        "outputId": "82f1243b-afc7-4419-af4d-3333f6ca48a4"
      },
      "execution_count": null,
      "outputs": [
        {
          "output_type": "display_data",
          "data": {
            "text/plain": [
              "<Figure size 640x480 with 2 Axes>"
            ],
            "image/png": "[encoded data removed]"
          },
          "metadata": {}
        }
      ]
    },
    {
      "cell_type": "code",
      "source": [
        "print(classification_report(y_test,y_pred))"
      ],
      "metadata": {
        "colab": {
          "base_uri": "https://localhost:8080/"
        },
        "id": "bzYN6VkHqkev",
        "outputId": "2dc50396-d40a-402e-966d-53172136609c"
      },
      "execution_count": null,
      "outputs": [
        {
          "output_type": "stream",
          "name": "stdout",
          "text": [
            "              precision    recall  f1-score   support\n",
            "\n",
            "           0       0.99      1.00      0.99       982\n",
            "           1       1.00      0.89      0.94       133\n",
            "\n",
            "    accuracy                           0.99      1115\n",
            "   macro avg       0.99      0.95      0.97      1115\n",
            "weighted avg       0.99      0.99      0.99      1115\n",
            "\n"
          ]
        }
      ]
    },
    {
      "cell_type": "code",
      "source": [
        "# prompt: now built app using gradio to predict\n",
        "\n",
        "import numpy as np\n",
        "def predict_email(email):\n",
        "  sequence = tokenizer.texts_to_sequences([email])\n",
        "  padded_sequence = pad_sequences(sequence,maxlen=max_length)\n",
        "  prediction = model.predict(padded_sequence)\n",
        "  label = np.argmax(prediction)\n",
        "  return \"spam\" if label == 1 else \"ham\"\n",
        "\n",
        "iface = gr.Interface(\n",
        "    fn=predict_email,\n",
        "    inputs=gr.Textbox(lines=5, placeholder=\"Enter your email here\"),\n",
        "    outputs=\"text\",\n",
        "    title=\"Email Spam Detection App\",\n",
        "    description=\"Enter an email and get a prediction on whether it's spam or ham.\"\n",
        ")\n",
        "\n",
        "iface.launch()\n"
      ],
      "metadata": {
        "colab": {
          "base_uri": "https://localhost:8080/",
          "height": 626
        },
        "id": "_ylywozqrplx",
        "outputId": "204f472f-9f24-4e6a-9af5-2235bbc1bf9c"
      },
      "execution_count": null,
      "outputs": [
        {
          "output_type": "stream",
          "name": "stdout",
          "text": [
            "Setting queue=True in a Colab notebook requires sharing enabled. Setting `share=True` (you can turn this off by setting `share=False` in `launch()` explicitly).\n",
            "\n",
            "Colab notebook detected. To show errors in colab notebook, set debug=True in launch()\n",
            "Running on public URL: https://02c64ac052c3588d6a.gradio.live\n",
            "\n",
            "This share link expires in 72 hours. For free permanent hosting and GPU upgrades, run `gradio deploy` from Terminal to deploy to Spaces (https://huggingface.co/spaces)\n"
          ]
        },
        {
          "output_type": "display_data",
          "data": {
            "text/plain": [
              "<IPython.core.display.HTML object>"
            ],
            "text/html": [
              "<div><iframe src=\"https://02c64ac052c3588d6a.gradio.live\" width=\"100%\" height=\"500\" allow=\"autoplay; camera; microphone; clipboard-read; clipboard-write;\" frameborder=\"0\" allowfullscreen></iframe></div>"
            ]
          },
          "metadata": {}
        },
        {
          "output_type": "execute_result",
          "data": {
            "text/plain": []
          },
          "metadata": {},
          "execution_count": 66
        }
      ]
    }
  ]
}